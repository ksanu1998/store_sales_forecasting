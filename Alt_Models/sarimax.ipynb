{
 "cells": [
  {
   "cell_type": "code",
   "execution_count": null,
   "metadata": {
    "collapsed": true
   },
   "outputs": [],
   "source": [
    "# Python Imports\n",
    "from statsmodels.tsa.stattools import adfuller\n",
    "from statsmodels.tsa.deterministic import DeterministicProcess, CalendarFourier\n",
    "from statsmodels.tsa.statespace.sarimax import SARIMAX\n",
    "from sklearn.metrics import mean_squared_log_error\n",
    "import pandas as pd\n",
    "import numpy as np\n",
    "import matplotlib.pyplot as plt\n",
    "import os\n",
    "from tqdm import tqdm\n",
    "from sktime.forecasting.tbats import TBATS"
   ]
  },
  {
   "cell_type": "code",
   "execution_count": null,
   "outputs": [],
   "source": [
    "# Create paths\n",
    "root_path = './data'\n",
    "train_path = os.path.join(root_path, 'train.csv')\n",
    "oil_path = os.path.join(root_path, 'oil.csv')\n",
    "holiday_path = os.path.join(root_path, 'holidays_events.csv')"
   ],
   "metadata": {
    "collapsed": false
   }
  },
  {
   "cell_type": "code",
   "execution_count": null,
   "outputs": [],
   "source": [
    "# dates\n",
    "start_train_date = '2016-07-16'\n",
    "end_train_val_date = '2017-07-15'\n",
    "end_train_test_date = '2017-08-15'\n",
    "start_val_date = '2017-07-16'\n",
    "end_val_date = '2017-07-31'\n",
    "start_test_date = '2017-08-16'\n",
    "end_test_date = '2017-08-31'"
   ],
   "metadata": {
    "collapsed": false
   }
  },
  {
   "cell_type": "code",
   "execution_count": null,
   "outputs": [],
   "source": [
    "# Load in the train dataset\n",
    "base_train_df = pd.read_csv(train_path, index_col='date', parse_dates=['date'])\n",
    "base_train_df.head(15)"
   ],
   "metadata": {
    "collapsed": false
   }
  },
  {
   "cell_type": "code",
   "execution_count": null,
   "outputs": [],
   "source": [
    "# Convert the data to log1p\n",
    "log_train_df = base_train_df.loc[base_train_df.index >= start_train_date, ['store_nbr', 'family', 'sales']]\n",
    "log_train_df.sales = np.log1p(log_train_df.sales)\n",
    "\n",
    "# Clean up new years data and add christmas\n",
    "families = log_train_df.family.unique()\n",
    "stores = log_train_df.store_nbr.unique()\n",
    "xmas_list = []\n",
    "for store in stores:\n",
    "    for family in families:\n",
    "        xmas_list.append(['2016-12-25', store, family, 0])\n",
    "xmas_df = pd.DataFrame(xmas_list, columns=['date', 'store_nbr', 'family', 'sales']).set_index('date')\n",
    "log_train_df = pd.concat([log_train_df, xmas_df])\n",
    "log_train_df = log_train_df.reset_index().set_index(['date', 'store_nbr', 'family'])\n",
    "for store in stores:\n",
    "    for family in families:\n",
    "        # log_train_df.loc[('2016-01-01', store, family)] = log_train_df.loc[('2016-01-02', store, family)]\n",
    "        log_train_df.loc[('2017-01-01', store, family)] = log_train_df.loc[('2017-01-02', store, family)]\n",
    "        log_train_df.loc[('2016-12-25', store, family)] = log_train_df.loc[('2016-12-26', store, family)]\n",
    "\n",
    "log_train_df = log_train_df.reset_index().set_index('date')\n",
    "\n",
    "log_train_df.head(15)"
   ],
   "metadata": {
    "collapsed": false
   }
  },
  {
   "cell_type": "code",
   "execution_count": null,
   "outputs": [],
   "source": [
    "# Create a plot of each family averaged\n",
    "for family in families:\n",
    "    plt.plot(log_train_df.loc[log_train_df.family == family, 'sales'].reset_index().groupby('date').sales.mean())\n",
    "    plt.suptitle(family)\n",
    "    plt.show()"
   ],
   "metadata": {
    "collapsed": false
   }
  },
  {
   "cell_type": "code",
   "execution_count": null,
   "outputs": [],
   "source": [
    "# Load in the oil data\n",
    "date_range = pd.date_range('2013-01-01', end_test_date)\n",
    "base_oil_df = pd.read_csv(oil_path, index_col='date', parse_dates=['date'])\n",
    "base_oil_df['rolling_avg'] = base_oil_df.dcoilwtico.rolling(window=7, center=False).mean()\n",
    "avg_oil_df = pd.DataFrame(index=date_range)\n",
    "avg_oil_df = avg_oil_df.join(base_oil_df)\n",
    "avg_oil_df.rolling_avg.fillna(method='ffill', inplace=True)\n",
    "avg_oil_df['wd'] = avg_oil_df.index.dayofweek <= 4\n",
    "avg_oil_df.wd = avg_oil_df.wd.astype(int)\n",
    "avg_oil_df.head(15)\n",
    "\n",
    "# add fourier terms\n",
    "fourier_w = CalendarFourier('W', 4)\n",
    "fourier_a = CalendarFourier('A', 4)\n",
    "fourier_m = CalendarFourier('M', 4)\n",
    "dp = DeterministicProcess(\n",
    "    index=pd.date_range(start_train_date, end_val_date),\n",
    "    order=0,\n",
    "    constant=False,\n",
    "    additional_terms=[fourier_m, fourier_a, fourier_w]\n",
    ")\n",
    "dp_df = dp.in_sample()\n",
    "exog_df = dp_df.join(avg_oil_df.loc[:, ['rolling_avg', 'wd']])\n",
    "exog_df.head()"
   ],
   "metadata": {
    "collapsed": false
   }
  },
  {
   "cell_type": "code",
   "execution_count": null,
   "outputs": [],
   "source": [
    "# Get the holiday information\n",
    "base_holiday_df = pd.read_csv(holiday_path)\n",
    "base_holiday_df"
   ],
   "metadata": {
    "collapsed": false
   }
  },
  {
   "cell_type": "code",
   "execution_count": null,
   "outputs": [],
   "source": [
    "# Run adfuller test\n",
    "def run_adfuller(df, f, s):\n",
    "    dftest = adfuller(df.loc[(df.family == f) & (df.store_nbr == s), 'sales'], autolag = 'AIC')\n",
    "    print(\"1. ADF : \",dftest[0])\n",
    "    print(\"2. P-Value : \", dftest[1])\n",
    "    print(\"3. Num Of Lags : \", dftest[2])\n",
    "    print(\"4. Num Of Observations Used For ADF Regression and Critical Values Calculation :\", dftest[3])\n",
    "    print(\"5. Critical Values :\")\n",
    "    for key, val in dftest[4].items():\n",
    "        print(\"\\t\",key, \": \", val)\n",
    "#\n",
    "# for family in families:\n",
    "#     print(f'Family: {family}')\n",
    "#     for store in stores:\n",
    "#         print(f'Store: {store}')\n",
    "#         run_adfuller(log_train_df, family, store)"
   ],
   "metadata": {
    "collapsed": false
   }
  },
  {
   "cell_type": "code",
   "execution_count": null,
   "outputs": [],
   "source": [
    "# Grid Search the best params\n",
    "def grid_search(train_series, test_series):\n",
    "    p_params = [0, 1, 2]\n",
    "    d_params = [0, 1, ]\n",
    "    q_params = [0, 1, 2]\n",
    "    t_params = ['n', 'c', 't', 'ct']\n",
    "    P_params = [0, 1, 2]\n",
    "    D_params = [0, 1]\n",
    "    Q_params = [0, 1, 2]\n",
    "    m_params = [7, 14, 28]\n",
    "    best_error = 12\n",
    "    best_cfg = None\n",
    "    for p in p_params:\n",
    "        for d in d_params:\n",
    "            for q in q_params:\n",
    "                for t in t_params:\n",
    "                    for P in P_params:\n",
    "                        for D in D_params:\n",
    "                            for Q in Q_params:\n",
    "                                for m in m_params:\n",
    "                                    cfg = [(p, d, q), (P, D, Q, m), t]\n",
    "                                    model = SARIMAX(train_series.sales, order=cfg[0], seasonal_order=cfg[1], trend=cfg[2], enforce_stationarity=False, enforce_invertibility=False)\n",
    "                                    fit_model = model.fit(disp=False)\n",
    "                                    predictions = fit_model.predict(start=len(train_series), end=len(train_series)+len(test_series)-1, dynamic=True)\n",
    "                                    predictions[predictions < 0] = 0\n",
    "                                    error = mean_squared_log_error(np.expm1(test_series.sales), np.expm1(predictions), squared=False)\n",
    "                                    if error < best_error:\n",
    "                                        best_error = error\n",
    "                                        best_cfg = cfg\n",
    "    return best_error, best_cfg\n",
    "\n",
    "results_dict = dict()\n",
    "log_train_df = log_train_df.reset_index()\n",
    "for family in families:\n",
    "    print(f'Running for {family}')\n",
    "    results_dict[family] = dict()\n",
    "    for store in tqdm(stores):\n",
    "        train = log_train_df.loc[(log_train_df.date >= start_train_date) &\n",
    "                                 (log_train_df.date <= end_train_val_date) &\n",
    "                                 (log_train_df.family == family) &\n",
    "                                 (log_train_df.store_nbr == store), ['date', 'sales']].reset_index().loc[:, ['date', 'sales']]\n",
    "        val = log_train_df.loc[(log_train_df.date >= start_val_date) &\n",
    "                                 (log_train_df.date <= end_val_date) &\n",
    "                                 (log_train_df.family == family) &\n",
    "                                 (log_train_df.store_nbr == store), ['date', 'sales']].reset_index().loc[:, ['date', 'sales']]\n",
    "        err, cfg = grid_search(train, val)\n",
    "        results_dict[family][store] = {\n",
    "            'error': err,\n",
    "            'cfg': cfg\n",
    "        }\n",
    "\n",
    "print(results_dict)"
   ],
   "metadata": {
    "collapsed": false
   }
  },
  {
   "cell_type": "code",
   "execution_count": null,
   "outputs": [],
   "source": [
    "# Once best model is found for each store and family, run and fit model on full train data"
   ],
   "metadata": {
    "collapsed": false
   }
  },
  {
   "cell_type": "code",
   "execution_count": null,
   "outputs": [],
   "source": [
    "# With each trained model, create the predictions"
   ],
   "metadata": {
    "collapsed": false
   }
  }
 ],
 "metadata": {
  "kernelspec": {
   "display_name": "Python 3",
   "language": "python",
   "name": "python3"
  },
  "language_info": {
   "codemirror_mode": {
    "name": "ipython",
    "version": 2
   },
   "file_extension": ".py",
   "mimetype": "text/x-python",
   "name": "python",
   "nbconvert_exporter": "python",
   "pygments_lexer": "ipython2",
   "version": "2.7.6"
  }
 },
 "nbformat": 4,
 "nbformat_minor": 0
}
