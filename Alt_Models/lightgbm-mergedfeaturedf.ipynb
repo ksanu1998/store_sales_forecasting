{
 "metadata": {
  "kernelspec": {
   "language": "python",
   "display_name": "Python 3",
   "name": "python3"
  },
  "language_info": {
   "name": "python",
   "version": "3.7.12",
   "mimetype": "text/x-python",
   "codemirror_mode": {
    "name": "ipython",
    "version": 3
   },
   "pygments_lexer": "ipython3",
   "nbconvert_exporter": "python",
   "file_extension": ".py"
  }
 },
 "nbformat_minor": 4,
 "nbformat": 4,
 "cells": [
  {
   "cell_type": "code",
   "source": [
    "import numpy as np\n",
    "import pandas as pd\n",
    "from sklearn.linear_model import LinearRegression\n",
    "from sklearn.kernel_ridge import KernelRidge\n",
    "from sklearn.linear_model import MultiTaskLassoCV\n",
    "from sklearn.metrics import mean_squared_log_error\n",
    "from statsmodels.tsa.deterministic import DeterministicProcess\n",
    "from sklearn import preprocessing\n",
    "from sklearn.tree import DecisionTreeRegressor\n",
    "from sklearn.linear_model import HuberRegressor\n",
    "from sklearn.linear_model import RidgeCV\n",
    "from sklearn.model_selection import GridSearchCV\n",
    "import lightgbm as lgb\n",
    "import xgboost as xgb\n",
    "from sklearn.model_selection import RandomizedSearchCV\n",
    "from sklearn.preprocessing import LabelEncoder\n",
    "from sklearn.linear_model import LassoCV\n",
    "import catboost as cb\n",
    "from catboost import CatBoostRegressor\n"
   ],
   "metadata": {
    "execution": {
     "iopub.status.busy": "2022-12-14T01:24:29.630413Z",
     "iopub.execute_input": "2022-12-14T01:24:29.630878Z",
     "iopub.status.idle": "2022-12-14T01:24:29.639989Z",
     "shell.execute_reply.started": "2022-12-14T01:24:29.630848Z",
     "shell.execute_reply": "2022-12-14T01:24:29.638263Z"
    },
    "trusted": true
   },
   "execution_count": 32,
   "outputs": []
  },
  {
   "cell_type": "code",
   "source": [
    "# path to the dataset in Kaggle's notebookpath = '/content/gdrive/My Drive/Colab Notebooks/input/store-sales-time-series-forecasting/'\n",
    "path = '../input/store-sales-time-series-forecasting/'"
   ],
   "metadata": {
    "execution": {
     "iopub.status.busy": "2022-12-14T01:24:31.384236Z",
     "iopub.execute_input": "2022-12-14T01:24:31.384672Z",
     "iopub.status.idle": "2022-12-14T01:24:31.390952Z",
     "shell.execute_reply.started": "2022-12-14T01:24:31.384636Z",
     "shell.execute_reply": "2022-12-14T01:24:31.389234Z"
    },
    "trusted": true
   },
   "execution_count": 33,
   "outputs": []
  },
  {
   "cell_type": "code",
   "source": [
    "# read oil price\n",
    "data_oil = pd.read_csv(path + 'oil.csv', parse_dates=['date'], infer_datetime_format=True, index_col='date')\n",
    "\n",
    "########################################################################################################################\n",
    "# TODO: compute data_oil['ma_oil'] as the moving average of data_oil['dcoilwtico'] with window size 7\n",
    "# Hint: check the documentation of .rolling() method of pandas.DataFrame\n",
    "########################################################################################################################\n",
    "# data_oil['ma_oil'] = None # change 'None' to your answer\n",
    "data_oil['ma_oil'] = data_oil.rolling(16).mean()\n",
    "# data_oil['ma_oil'] = data_oil.interpolate()\n",
    "\n",
    "# Create continguous moving average of oil prices\n",
    "calendar = pd.DataFrame(index=pd.date_range('2013-01-01', '2017-08-31'))\n",
    "########################################################################################################################\n",
    "# TODO 1: merge two DataFrame instances (data_oil and calendar) such that the merged instances has the same indexes\n",
    "# as calendar.\n",
    "# TODO 2: replace each NaN in data_oil['ma_oil'] by the first non-null value before it.\n",
    "# Hint: check the documentation of .merge() and .fillna() methods of pandas.DataFrame\n",
    "########################################################################################################################\n",
    "calendar = calendar.merge(data_oil, how='outer', left_index=True, right_index=True) # merging data_oil and calendar dataframes into calendar dataframe\n",
    "calendar['ma_oil'].fillna(method='ffill', inplace=True) # replacing NaN values with the first non-NaN value before it - check what to do with the first few NaN values\n",
    "calendar['ma_oil'].iloc[:9] = calendar['dcoilwtico'].head(9).mean() # replacing first few NaN values with the mean of the original values for those many days\n",
    "del calendar['dcoilwtico']\n",
    "calendar.head(30) # visualise calendar dataframe"
   ],
   "metadata": {
    "execution": {
     "iopub.status.busy": "2022-12-14T01:24:32.933776Z",
     "iopub.execute_input": "2022-12-14T01:24:32.934266Z",
     "iopub.status.idle": "2022-12-14T01:24:33.005502Z",
     "shell.execute_reply.started": "2022-12-14T01:24:32.934229Z",
     "shell.execute_reply": "2022-12-14T01:24:33.004452Z"
    },
    "trusted": true
   },
   "execution_count": 34,
   "outputs": [
    {
     "execution_count": 34,
     "output_type": "execute_result",
     "data": {
      "text/plain": "            ma_oil\n2013-01-01   93.12\n2013-01-02   93.12\n2013-01-03   93.12\n2013-01-04   93.12\n2013-01-05   93.12\n2013-01-06   93.12\n2013-01-07   93.12\n2013-01-08   93.12\n2013-01-09   93.12\n2013-01-10     NaN\n2013-01-11     NaN\n2013-01-12     NaN\n2013-01-13     NaN\n2013-01-14     NaN\n2013-01-15     NaN\n2013-01-16     NaN\n2013-01-17     NaN\n2013-01-18     NaN\n2013-01-19     NaN\n2013-01-20     NaN\n2013-01-21     NaN\n2013-01-22     NaN\n2013-01-23     NaN\n2013-01-24     NaN\n2013-01-25     NaN\n2013-01-26     NaN\n2013-01-27     NaN\n2013-01-28     NaN\n2013-01-29     NaN\n2013-01-30     NaN",
      "text/html": "<div>\n<style scoped>\n    .dataframe tbody tr th:only-of-type {\n        vertical-align: middle;\n    }\n\n    .dataframe tbody tr th {\n        vertical-align: top;\n    }\n\n    .dataframe thead th {\n        text-align: right;\n    }\n</style>\n<table border=\"1\" class=\"dataframe\">\n  <thead>\n    <tr style=\"text-align: right;\">\n      <th></th>\n      <th>ma_oil</th>\n    </tr>\n  </thead>\n  <tbody>\n    <tr>\n      <th>2013-01-01</th>\n      <td>93.12</td>\n    </tr>\n    <tr>\n      <th>2013-01-02</th>\n      <td>93.12</td>\n    </tr>\n    <tr>\n      <th>2013-01-03</th>\n      <td>93.12</td>\n    </tr>\n    <tr>\n      <th>2013-01-04</th>\n      <td>93.12</td>\n    </tr>\n    <tr>\n      <th>2013-01-05</th>\n      <td>93.12</td>\n    </tr>\n    <tr>\n      <th>2013-01-06</th>\n      <td>93.12</td>\n    </tr>\n    <tr>\n      <th>2013-01-07</th>\n      <td>93.12</td>\n    </tr>\n    <tr>\n      <th>2013-01-08</th>\n      <td>93.12</td>\n    </tr>\n    <tr>\n      <th>2013-01-09</th>\n      <td>93.12</td>\n    </tr>\n    <tr>\n      <th>2013-01-10</th>\n      <td>NaN</td>\n    </tr>\n    <tr>\n      <th>2013-01-11</th>\n      <td>NaN</td>\n    </tr>\n    <tr>\n      <th>2013-01-12</th>\n      <td>NaN</td>\n    </tr>\n    <tr>\n      <th>2013-01-13</th>\n      <td>NaN</td>\n    </tr>\n    <tr>\n      <th>2013-01-14</th>\n      <td>NaN</td>\n    </tr>\n    <tr>\n      <th>2013-01-15</th>\n      <td>NaN</td>\n    </tr>\n    <tr>\n      <th>2013-01-16</th>\n      <td>NaN</td>\n    </tr>\n    <tr>\n      <th>2013-01-17</th>\n      <td>NaN</td>\n    </tr>\n    <tr>\n      <th>2013-01-18</th>\n      <td>NaN</td>\n    </tr>\n    <tr>\n      <th>2013-01-19</th>\n      <td>NaN</td>\n    </tr>\n    <tr>\n      <th>2013-01-20</th>\n      <td>NaN</td>\n    </tr>\n    <tr>\n      <th>2013-01-21</th>\n      <td>NaN</td>\n    </tr>\n    <tr>\n      <th>2013-01-22</th>\n      <td>NaN</td>\n    </tr>\n    <tr>\n      <th>2013-01-23</th>\n      <td>NaN</td>\n    </tr>\n    <tr>\n      <th>2013-01-24</th>\n      <td>NaN</td>\n    </tr>\n    <tr>\n      <th>2013-01-25</th>\n      <td>NaN</td>\n    </tr>\n    <tr>\n      <th>2013-01-26</th>\n      <td>NaN</td>\n    </tr>\n    <tr>\n      <th>2013-01-27</th>\n      <td>NaN</td>\n    </tr>\n    <tr>\n      <th>2013-01-28</th>\n      <td>NaN</td>\n    </tr>\n    <tr>\n      <th>2013-01-29</th>\n      <td>NaN</td>\n    </tr>\n    <tr>\n      <th>2013-01-30</th>\n      <td>NaN</td>\n    </tr>\n  </tbody>\n</table>\n</div>"
     },
     "metadata": {}
    }
   ]
  },
  {
   "cell_type": "code",
   "source": [
    "########################################################################################################################\n",
    "# TODO: create a True/False feature calendar['wd'] to indicate whether each date is a workday (Monday-Friday) or not.\n",
    "# Hint: check documentation of pandas.DatetimeIndex.dayofweek\n",
    "########################################################################################################################\n",
    "calendar['wd'] = calendar.index.dayofweek <= 4 # add days of week column to calendar dataframe\n",
    "calendar.index.name = 'date'\n",
    "calendar.index = calendar.index.to_period('D')\n",
    "\n",
    "calendar.head(20) # visualize calendar\n",
    "# len(calendar.index)"
   ],
   "metadata": {
    "execution": {
     "iopub.status.busy": "2022-12-14T01:24:36.217814Z",
     "iopub.execute_input": "2022-12-14T01:24:36.218340Z",
     "iopub.status.idle": "2022-12-14T01:24:36.240722Z",
     "shell.execute_reply.started": "2022-12-14T01:24:36.218301Z",
     "shell.execute_reply": "2022-12-14T01:24:36.238892Z"
    },
    "trusted": true
   },
   "execution_count": 35,
   "outputs": [
    {
     "execution_count": 35,
     "output_type": "execute_result",
     "data": {
      "text/plain": "            ma_oil     wd\ndate                     \n2013-01-01   93.12   True\n2013-01-02   93.12   True\n2013-01-03   93.12   True\n2013-01-04   93.12   True\n2013-01-05   93.12  False\n2013-01-06   93.12  False\n2013-01-07   93.12   True\n2013-01-08   93.12   True\n2013-01-09   93.12   True\n2013-01-10     NaN   True\n2013-01-11     NaN   True\n2013-01-12     NaN  False\n2013-01-13     NaN  False\n2013-01-14     NaN   True\n2013-01-15     NaN   True\n2013-01-16     NaN   True\n2013-01-17     NaN   True\n2013-01-18     NaN   True\n2013-01-19     NaN  False\n2013-01-20     NaN  False",
      "text/html": "<div>\n<style scoped>\n    .dataframe tbody tr th:only-of-type {\n        vertical-align: middle;\n    }\n\n    .dataframe tbody tr th {\n        vertical-align: top;\n    }\n\n    .dataframe thead th {\n        text-align: right;\n    }\n</style>\n<table border=\"1\" class=\"dataframe\">\n  <thead>\n    <tr style=\"text-align: right;\">\n      <th></th>\n      <th>ma_oil</th>\n      <th>wd</th>\n    </tr>\n    <tr>\n      <th>date</th>\n      <th></th>\n      <th></th>\n    </tr>\n  </thead>\n  <tbody>\n    <tr>\n      <th>2013-01-01</th>\n      <td>93.12</td>\n      <td>True</td>\n    </tr>\n    <tr>\n      <th>2013-01-02</th>\n      <td>93.12</td>\n      <td>True</td>\n    </tr>\n    <tr>\n      <th>2013-01-03</th>\n      <td>93.12</td>\n      <td>True</td>\n    </tr>\n    <tr>\n      <th>2013-01-04</th>\n      <td>93.12</td>\n      <td>True</td>\n    </tr>\n    <tr>\n      <th>2013-01-05</th>\n      <td>93.12</td>\n      <td>False</td>\n    </tr>\n    <tr>\n      <th>2013-01-06</th>\n      <td>93.12</td>\n      <td>False</td>\n    </tr>\n    <tr>\n      <th>2013-01-07</th>\n      <td>93.12</td>\n      <td>True</td>\n    </tr>\n    <tr>\n      <th>2013-01-08</th>\n      <td>93.12</td>\n      <td>True</td>\n    </tr>\n    <tr>\n      <th>2013-01-09</th>\n      <td>93.12</td>\n      <td>True</td>\n    </tr>\n    <tr>\n      <th>2013-01-10</th>\n      <td>NaN</td>\n      <td>True</td>\n    </tr>\n    <tr>\n      <th>2013-01-11</th>\n      <td>NaN</td>\n      <td>True</td>\n    </tr>\n    <tr>\n      <th>2013-01-12</th>\n      <td>NaN</td>\n      <td>False</td>\n    </tr>\n    <tr>\n      <th>2013-01-13</th>\n      <td>NaN</td>\n      <td>False</td>\n    </tr>\n    <tr>\n      <th>2013-01-14</th>\n      <td>NaN</td>\n      <td>True</td>\n    </tr>\n    <tr>\n      <th>2013-01-15</th>\n      <td>NaN</td>\n      <td>True</td>\n    </tr>\n    <tr>\n      <th>2013-01-16</th>\n      <td>NaN</td>\n      <td>True</td>\n    </tr>\n    <tr>\n      <th>2013-01-17</th>\n      <td>NaN</td>\n      <td>True</td>\n    </tr>\n    <tr>\n      <th>2013-01-18</th>\n      <td>NaN</td>\n      <td>True</td>\n    </tr>\n    <tr>\n      <th>2013-01-19</th>\n      <td>NaN</td>\n      <td>False</td>\n    </tr>\n    <tr>\n      <th>2013-01-20</th>\n      <td>NaN</td>\n      <td>False</td>\n    </tr>\n  </tbody>\n</table>\n</div>"
     },
     "metadata": {}
    }
   ]
  },
  {
   "cell_type": "code",
   "source": [
    "df_train = pd.read_csv(path + 'train.csv',\n",
    "                       usecols=['store_nbr', 'family', 'date', 'sales', 'onpromotion'],\n",
    "                       dtype={'store_nbr': 'int', 'family': 'category', 'sales': 'float32', 'onpromotion': 'float32'},\n",
    "                       parse_dates=['date'], infer_datetime_format=True)\n",
    "\n",
    "df_train.date = df_train.date.dt.to_period('D')\n",
    "df_train = df_train.set_index(['date']).sort_index()\n",
    "df_train.reset_index(inplace=True)\n",
    "df_train['family'] = df_train['family'].cat.codes\n",
    "# df_train['store_nbr'] = df_train['store_nbr'].cat.codes\n",
    "df_train.tail(5) # display some entries of the training data"
   ],
   "metadata": {
    "execution": {
     "iopub.status.busy": "2022-12-14T01:24:44.464768Z",
     "iopub.execute_input": "2022-12-14T01:24:44.465223Z",
     "iopub.status.idle": "2022-12-14T01:24:46.116201Z",
     "shell.execute_reply.started": "2022-12-14T01:24:44.465192Z",
     "shell.execute_reply": "2022-12-14T01:24:46.114928Z"
    },
    "trusted": true
   },
   "execution_count": 36,
   "outputs": [
    {
     "execution_count": 36,
     "output_type": "execute_result",
     "data": {
      "text/plain": "               date  store_nbr  family        sales  onpromotion\n3000883  2017-08-15          9      28   438.132996          0.0\n3000884  2017-08-15          9      29   154.552994          1.0\n3000885  2017-08-15          9      30  2419.729004        148.0\n3000886  2017-08-15          9      31   121.000000          8.0\n3000887  2017-08-15          9      32    16.000000          0.0",
      "text/html": "<div>\n<style scoped>\n    .dataframe tbody tr th:only-of-type {\n        vertical-align: middle;\n    }\n\n    .dataframe tbody tr th {\n        vertical-align: top;\n    }\n\n    .dataframe thead th {\n        text-align: right;\n    }\n</style>\n<table border=\"1\" class=\"dataframe\">\n  <thead>\n    <tr style=\"text-align: right;\">\n      <th></th>\n      <th>date</th>\n      <th>store_nbr</th>\n      <th>family</th>\n      <th>sales</th>\n      <th>onpromotion</th>\n    </tr>\n  </thead>\n  <tbody>\n    <tr>\n      <th>3000883</th>\n      <td>2017-08-15</td>\n      <td>9</td>\n      <td>28</td>\n      <td>438.132996</td>\n      <td>0.0</td>\n    </tr>\n    <tr>\n      <th>3000884</th>\n      <td>2017-08-15</td>\n      <td>9</td>\n      <td>29</td>\n      <td>154.552994</td>\n      <td>1.0</td>\n    </tr>\n    <tr>\n      <th>3000885</th>\n      <td>2017-08-15</td>\n      <td>9</td>\n      <td>30</td>\n      <td>2419.729004</td>\n      <td>148.0</td>\n    </tr>\n    <tr>\n      <th>3000886</th>\n      <td>2017-08-15</td>\n      <td>9</td>\n      <td>31</td>\n      <td>121.000000</td>\n      <td>8.0</td>\n    </tr>\n    <tr>\n      <th>3000887</th>\n      <td>2017-08-15</td>\n      <td>9</td>\n      <td>32</td>\n      <td>16.000000</td>\n      <td>0.0</td>\n    </tr>\n  </tbody>\n</table>\n</div>"
     },
     "metadata": {}
    }
   ]
  },
  {
   "cell_type": "code",
   "source": [
    "data_stores = pd.read_csv(path + 'stores.csv', infer_datetime_format=True, index_col='store_nbr')\n",
    "data_stores['city'] = data_stores['city'].astype('category').cat.codes\n",
    "data_stores['state'] = data_stores['state'].astype('category').cat.codes\n",
    "data_stores['type'] = data_stores['type'].astype('category').cat.codes\n",
    "data_stores.head(5)"
   ],
   "metadata": {
    "execution": {
     "iopub.status.busy": "2022-12-14T01:24:49.347420Z",
     "iopub.execute_input": "2022-12-14T01:24:49.348035Z",
     "iopub.status.idle": "2022-12-14T01:24:49.367689Z",
     "shell.execute_reply.started": "2022-12-14T01:24:49.347990Z",
     "shell.execute_reply": "2022-12-14T01:24:49.366730Z"
    },
    "trusted": true
   },
   "execution_count": 37,
   "outputs": [
    {
     "execution_count": 37,
     "output_type": "execute_result",
     "data": {
      "text/plain": "           city  state  type  cluster\nstore_nbr                            \n1            18     12     3       13\n2            18     12     3       13\n3            18     12     3        8\n4            18     12     3        9\n5            21     14     3        4",
      "text/html": "<div>\n<style scoped>\n    .dataframe tbody tr th:only-of-type {\n        vertical-align: middle;\n    }\n\n    .dataframe tbody tr th {\n        vertical-align: top;\n    }\n\n    .dataframe thead th {\n        text-align: right;\n    }\n</style>\n<table border=\"1\" class=\"dataframe\">\n  <thead>\n    <tr style=\"text-align: right;\">\n      <th></th>\n      <th>city</th>\n      <th>state</th>\n      <th>type</th>\n      <th>cluster</th>\n    </tr>\n    <tr>\n      <th>store_nbr</th>\n      <th></th>\n      <th></th>\n      <th></th>\n      <th></th>\n    </tr>\n  </thead>\n  <tbody>\n    <tr>\n      <th>1</th>\n      <td>18</td>\n      <td>12</td>\n      <td>3</td>\n      <td>13</td>\n    </tr>\n    <tr>\n      <th>2</th>\n      <td>18</td>\n      <td>12</td>\n      <td>3</td>\n      <td>13</td>\n    </tr>\n    <tr>\n      <th>3</th>\n      <td>18</td>\n      <td>12</td>\n      <td>3</td>\n      <td>8</td>\n    </tr>\n    <tr>\n      <th>4</th>\n      <td>18</td>\n      <td>12</td>\n      <td>3</td>\n      <td>9</td>\n    </tr>\n    <tr>\n      <th>5</th>\n      <td>21</td>\n      <td>14</td>\n      <td>3</td>\n      <td>4</td>\n    </tr>\n  </tbody>\n</table>\n</div>"
     },
     "metadata": {}
    }
   ]
  },
  {
   "cell_type": "code",
   "source": [
    "df_train = df_train.merge(data_stores, how='left',on='store_nbr')\n",
    "df_train.head()"
   ],
   "metadata": {
    "execution": {
     "iopub.status.busy": "2022-12-14T01:24:51.528283Z",
     "iopub.execute_input": "2022-12-14T01:24:51.529031Z",
     "iopub.status.idle": "2022-12-14T01:24:51.853538Z",
     "shell.execute_reply.started": "2022-12-14T01:24:51.528997Z",
     "shell.execute_reply": "2022-12-14T01:24:51.851779Z"
    },
    "trusted": true
   },
   "execution_count": 38,
   "outputs": [
    {
     "execution_count": 38,
     "output_type": "execute_result",
     "data": {
      "text/plain": "         date  store_nbr  family  sales  onpromotion  city  state  type  \\\n0  2013-01-01          1       0    0.0          0.0    18     12     3   \n1  2013-01-01          1       1    0.0          0.0    18     12     3   \n2  2013-01-01          1       2    0.0          0.0    18     12     3   \n3  2013-01-01          1       3    0.0          0.0    18     12     3   \n4  2013-01-01          1       4    0.0          0.0    18     12     3   \n\n   cluster  \n0       13  \n1       13  \n2       13  \n3       13  \n4       13  ",
      "text/html": "<div>\n<style scoped>\n    .dataframe tbody tr th:only-of-type {\n        vertical-align: middle;\n    }\n\n    .dataframe tbody tr th {\n        vertical-align: top;\n    }\n\n    .dataframe thead th {\n        text-align: right;\n    }\n</style>\n<table border=\"1\" class=\"dataframe\">\n  <thead>\n    <tr style=\"text-align: right;\">\n      <th></th>\n      <th>date</th>\n      <th>store_nbr</th>\n      <th>family</th>\n      <th>sales</th>\n      <th>onpromotion</th>\n      <th>city</th>\n      <th>state</th>\n      <th>type</th>\n      <th>cluster</th>\n    </tr>\n  </thead>\n  <tbody>\n    <tr>\n      <th>0</th>\n      <td>2013-01-01</td>\n      <td>1</td>\n      <td>0</td>\n      <td>0.0</td>\n      <td>0.0</td>\n      <td>18</td>\n      <td>12</td>\n      <td>3</td>\n      <td>13</td>\n    </tr>\n    <tr>\n      <th>1</th>\n      <td>2013-01-01</td>\n      <td>1</td>\n      <td>1</td>\n      <td>0.0</td>\n      <td>0.0</td>\n      <td>18</td>\n      <td>12</td>\n      <td>3</td>\n      <td>13</td>\n    </tr>\n    <tr>\n      <th>2</th>\n      <td>2013-01-01</td>\n      <td>1</td>\n      <td>2</td>\n      <td>0.0</td>\n      <td>0.0</td>\n      <td>18</td>\n      <td>12</td>\n      <td>3</td>\n      <td>13</td>\n    </tr>\n    <tr>\n      <th>3</th>\n      <td>2013-01-01</td>\n      <td>1</td>\n      <td>3</td>\n      <td>0.0</td>\n      <td>0.0</td>\n      <td>18</td>\n      <td>12</td>\n      <td>3</td>\n      <td>13</td>\n    </tr>\n    <tr>\n      <th>4</th>\n      <td>2013-01-01</td>\n      <td>1</td>\n      <td>4</td>\n      <td>0.0</td>\n      <td>0.0</td>\n      <td>18</td>\n      <td>12</td>\n      <td>3</td>\n      <td>13</td>\n    </tr>\n  </tbody>\n</table>\n</div>"
     },
     "metadata": {}
    }
   ]
  },
  {
   "cell_type": "code",
   "source": [
    "data_holidays = pd.read_csv(path + 'holidays_events.csv', parse_dates=['date'], infer_datetime_format=True, index_col='date')\n",
    "data_holidays.index = data_holidays.index.to_period('D')\n",
    "data_holidays['type'] = data_holidays['type'].astype('category').cat.codes\n",
    "data_holidays['locale'] = data_holidays['locale'].astype('category').cat.codes\n",
    "data_holidays['locale_name'] = data_holidays['locale_name'].astype('category').cat.codes\n",
    "data_holidays['description'] = data_holidays['description'].astype('category').cat.codes\n",
    "data_holidays['transferred'] = data_holidays['transferred'].astype('category').cat.codes\n",
    "data_holidays.head(5)"
   ],
   "metadata": {
    "execution": {
     "iopub.status.busy": "2022-12-14T01:24:53.457041Z",
     "iopub.execute_input": "2022-12-14T01:24:53.457612Z",
     "iopub.status.idle": "2022-12-14T01:24:53.486405Z",
     "shell.execute_reply.started": "2022-12-14T01:24:53.457571Z",
     "shell.execute_reply": "2022-12-14T01:24:53.484556Z"
    },
    "trusted": true
   },
   "execution_count": 39,
   "outputs": [
    {
     "execution_count": 39,
     "output_type": "execute_result",
     "data": {
      "text/plain": "            type  locale  locale_name  description  transferred\ndate                                                           \n2012-03-02     3       0           15           25            0\n2012-04-01     3       2            2           54            0\n2012-04-12     3       0            3           18            0\n2012-04-14     3       0           12            6            0\n2012-04-21     3       0           19            8            0",
      "text/html": "<div>\n<style scoped>\n    .dataframe tbody tr th:only-of-type {\n        vertical-align: middle;\n    }\n\n    .dataframe tbody tr th {\n        vertical-align: top;\n    }\n\n    .dataframe thead th {\n        text-align: right;\n    }\n</style>\n<table border=\"1\" class=\"dataframe\">\n  <thead>\n    <tr style=\"text-align: right;\">\n      <th></th>\n      <th>type</th>\n      <th>locale</th>\n      <th>locale_name</th>\n      <th>description</th>\n      <th>transferred</th>\n    </tr>\n    <tr>\n      <th>date</th>\n      <th></th>\n      <th></th>\n      <th></th>\n      <th></th>\n      <th></th>\n    </tr>\n  </thead>\n  <tbody>\n    <tr>\n      <th>2012-03-02</th>\n      <td>3</td>\n      <td>0</td>\n      <td>15</td>\n      <td>25</td>\n      <td>0</td>\n    </tr>\n    <tr>\n      <th>2012-04-01</th>\n      <td>3</td>\n      <td>2</td>\n      <td>2</td>\n      <td>54</td>\n      <td>0</td>\n    </tr>\n    <tr>\n      <th>2012-04-12</th>\n      <td>3</td>\n      <td>0</td>\n      <td>3</td>\n      <td>18</td>\n      <td>0</td>\n    </tr>\n    <tr>\n      <th>2012-04-14</th>\n      <td>3</td>\n      <td>0</td>\n      <td>12</td>\n      <td>6</td>\n      <td>0</td>\n    </tr>\n    <tr>\n      <th>2012-04-21</th>\n      <td>3</td>\n      <td>0</td>\n      <td>19</td>\n      <td>8</td>\n      <td>0</td>\n    </tr>\n  </tbody>\n</table>\n</div>"
     },
     "metadata": {}
    }
   ]
  },
  {
   "cell_type": "code",
   "source": [
    "df_train = pd.merge(df_train,data_holidays, how='left',on='date')\n",
    "df_train.head()"
   ],
   "metadata": {
    "execution": {
     "iopub.status.busy": "2022-12-14T01:24:56.270329Z",
     "iopub.execute_input": "2022-12-14T01:24:56.270819Z",
     "iopub.status.idle": "2022-12-14T01:24:56.717512Z",
     "shell.execute_reply.started": "2022-12-14T01:24:56.270783Z",
     "shell.execute_reply": "2022-12-14T01:24:56.716405Z"
    },
    "trusted": true
   },
   "execution_count": 40,
   "outputs": [
    {
     "execution_count": 40,
     "output_type": "execute_result",
     "data": {
      "text/plain": "         date  store_nbr  family  sales  onpromotion  city  state  type_x  \\\n0  2013-01-01          1       0    0.0          0.0    18     12       3   \n1  2013-01-01          1       1    0.0          0.0    18     12       3   \n2  2013-01-01          1       2    0.0          0.0    18     12       3   \n3  2013-01-01          1       3    0.0          0.0    18     12       3   \n4  2013-01-01          1       4    0.0          0.0    18     12       3   \n\n   cluster  type_y  locale  locale_name  description  transferred  \n0       13     3.0     1.0          4.0         51.0          0.0  \n1       13     3.0     1.0          4.0         51.0          0.0  \n2       13     3.0     1.0          4.0         51.0          0.0  \n3       13     3.0     1.0          4.0         51.0          0.0  \n4       13     3.0     1.0          4.0         51.0          0.0  ",
      "text/html": "<div>\n<style scoped>\n    .dataframe tbody tr th:only-of-type {\n        vertical-align: middle;\n    }\n\n    .dataframe tbody tr th {\n        vertical-align: top;\n    }\n\n    .dataframe thead th {\n        text-align: right;\n    }\n</style>\n<table border=\"1\" class=\"dataframe\">\n  <thead>\n    <tr style=\"text-align: right;\">\n      <th></th>\n      <th>date</th>\n      <th>store_nbr</th>\n      <th>family</th>\n      <th>sales</th>\n      <th>onpromotion</th>\n      <th>city</th>\n      <th>state</th>\n      <th>type_x</th>\n      <th>cluster</th>\n      <th>type_y</th>\n      <th>locale</th>\n      <th>locale_name</th>\n      <th>description</th>\n      <th>transferred</th>\n    </tr>\n  </thead>\n  <tbody>\n    <tr>\n      <th>0</th>\n      <td>2013-01-01</td>\n      <td>1</td>\n      <td>0</td>\n      <td>0.0</td>\n      <td>0.0</td>\n      <td>18</td>\n      <td>12</td>\n      <td>3</td>\n      <td>13</td>\n      <td>3.0</td>\n      <td>1.0</td>\n      <td>4.0</td>\n      <td>51.0</td>\n      <td>0.0</td>\n    </tr>\n    <tr>\n      <th>1</th>\n      <td>2013-01-01</td>\n      <td>1</td>\n      <td>1</td>\n      <td>0.0</td>\n      <td>0.0</td>\n      <td>18</td>\n      <td>12</td>\n      <td>3</td>\n      <td>13</td>\n      <td>3.0</td>\n      <td>1.0</td>\n      <td>4.0</td>\n      <td>51.0</td>\n      <td>0.0</td>\n    </tr>\n    <tr>\n      <th>2</th>\n      <td>2013-01-01</td>\n      <td>1</td>\n      <td>2</td>\n      <td>0.0</td>\n      <td>0.0</td>\n      <td>18</td>\n      <td>12</td>\n      <td>3</td>\n      <td>13</td>\n      <td>3.0</td>\n      <td>1.0</td>\n      <td>4.0</td>\n      <td>51.0</td>\n      <td>0.0</td>\n    </tr>\n    <tr>\n      <th>3</th>\n      <td>2013-01-01</td>\n      <td>1</td>\n      <td>3</td>\n      <td>0.0</td>\n      <td>0.0</td>\n      <td>18</td>\n      <td>12</td>\n      <td>3</td>\n      <td>13</td>\n      <td>3.0</td>\n      <td>1.0</td>\n      <td>4.0</td>\n      <td>51.0</td>\n      <td>0.0</td>\n    </tr>\n    <tr>\n      <th>4</th>\n      <td>2013-01-01</td>\n      <td>1</td>\n      <td>4</td>\n      <td>0.0</td>\n      <td>0.0</td>\n      <td>18</td>\n      <td>12</td>\n      <td>3</td>\n      <td>13</td>\n      <td>3.0</td>\n      <td>1.0</td>\n      <td>4.0</td>\n      <td>51.0</td>\n      <td>0.0</td>\n    </tr>\n  </tbody>\n</table>\n</div>"
     },
     "metadata": {}
    }
   ]
  },
  {
   "cell_type": "code",
   "source": [
    "train = pd.merge(df_train,calendar, how='left',on='date')\n",
    "y_train = train['sales']\n",
    "train.drop(['sales'],axis=1,inplace=True)\n",
    "train = train.drop('date', axis=1)"
   ],
   "metadata": {
    "execution": {
     "iopub.status.busy": "2022-12-14T01:24:59.223915Z",
     "iopub.execute_input": "2022-12-14T01:24:59.225068Z",
     "iopub.status.idle": "2022-12-14T01:24:59.879485Z",
     "shell.execute_reply.started": "2022-12-14T01:24:59.225036Z",
     "shell.execute_reply": "2022-12-14T01:24:59.878694Z"
    },
    "trusted": true
   },
   "execution_count": 41,
   "outputs": []
  },
  {
   "cell_type": "code",
   "source": [
    "train.head(5)"
   ],
   "metadata": {
    "execution": {
     "iopub.status.busy": "2022-12-14T01:25:01.481475Z",
     "iopub.execute_input": "2022-12-14T01:25:01.481914Z",
     "iopub.status.idle": "2022-12-14T01:25:01.504122Z",
     "shell.execute_reply.started": "2022-12-14T01:25:01.481886Z",
     "shell.execute_reply": "2022-12-14T01:25:01.502325Z"
    },
    "trusted": true
   },
   "execution_count": 42,
   "outputs": [
    {
     "execution_count": 42,
     "output_type": "execute_result",
     "data": {
      "text/plain": "   store_nbr  family  onpromotion  city  state  type_x  cluster  type_y  \\\n0          1       0          0.0    18     12       3       13     3.0   \n1          1       1          0.0    18     12       3       13     3.0   \n2          1       2          0.0    18     12       3       13     3.0   \n3          1       3          0.0    18     12       3       13     3.0   \n4          1       4          0.0    18     12       3       13     3.0   \n\n   locale  locale_name  description  transferred  ma_oil    wd  \n0     1.0          4.0         51.0          0.0   93.12  True  \n1     1.0          4.0         51.0          0.0   93.12  True  \n2     1.0          4.0         51.0          0.0   93.12  True  \n3     1.0          4.0         51.0          0.0   93.12  True  \n4     1.0          4.0         51.0          0.0   93.12  True  ",
      "text/html": "<div>\n<style scoped>\n    .dataframe tbody tr th:only-of-type {\n        vertical-align: middle;\n    }\n\n    .dataframe tbody tr th {\n        vertical-align: top;\n    }\n\n    .dataframe thead th {\n        text-align: right;\n    }\n</style>\n<table border=\"1\" class=\"dataframe\">\n  <thead>\n    <tr style=\"text-align: right;\">\n      <th></th>\n      <th>store_nbr</th>\n      <th>family</th>\n      <th>onpromotion</th>\n      <th>city</th>\n      <th>state</th>\n      <th>type_x</th>\n      <th>cluster</th>\n      <th>type_y</th>\n      <th>locale</th>\n      <th>locale_name</th>\n      <th>description</th>\n      <th>transferred</th>\n      <th>ma_oil</th>\n      <th>wd</th>\n    </tr>\n  </thead>\n  <tbody>\n    <tr>\n      <th>0</th>\n      <td>1</td>\n      <td>0</td>\n      <td>0.0</td>\n      <td>18</td>\n      <td>12</td>\n      <td>3</td>\n      <td>13</td>\n      <td>3.0</td>\n      <td>1.0</td>\n      <td>4.0</td>\n      <td>51.0</td>\n      <td>0.0</td>\n      <td>93.12</td>\n      <td>True</td>\n    </tr>\n    <tr>\n      <th>1</th>\n      <td>1</td>\n      <td>1</td>\n      <td>0.0</td>\n      <td>18</td>\n      <td>12</td>\n      <td>3</td>\n      <td>13</td>\n      <td>3.0</td>\n      <td>1.0</td>\n      <td>4.0</td>\n      <td>51.0</td>\n      <td>0.0</td>\n      <td>93.12</td>\n      <td>True</td>\n    </tr>\n    <tr>\n      <th>2</th>\n      <td>1</td>\n      <td>2</td>\n      <td>0.0</td>\n      <td>18</td>\n      <td>12</td>\n      <td>3</td>\n      <td>13</td>\n      <td>3.0</td>\n      <td>1.0</td>\n      <td>4.0</td>\n      <td>51.0</td>\n      <td>0.0</td>\n      <td>93.12</td>\n      <td>True</td>\n    </tr>\n    <tr>\n      <th>3</th>\n      <td>1</td>\n      <td>3</td>\n      <td>0.0</td>\n      <td>18</td>\n      <td>12</td>\n      <td>3</td>\n      <td>13</td>\n      <td>3.0</td>\n      <td>1.0</td>\n      <td>4.0</td>\n      <td>51.0</td>\n      <td>0.0</td>\n      <td>93.12</td>\n      <td>True</td>\n    </tr>\n    <tr>\n      <th>4</th>\n      <td>1</td>\n      <td>4</td>\n      <td>0.0</td>\n      <td>18</td>\n      <td>12</td>\n      <td>3</td>\n      <td>13</td>\n      <td>3.0</td>\n      <td>1.0</td>\n      <td>4.0</td>\n      <td>51.0</td>\n      <td>0.0</td>\n      <td>93.12</td>\n      <td>True</td>\n    </tr>\n  </tbody>\n</table>\n</div>"
     },
     "metadata": {}
    }
   ]
  },
  {
   "cell_type": "code",
   "source": [
    "y_train.tail(5)"
   ],
   "metadata": {
    "execution": {
     "iopub.status.busy": "2022-12-14T01:25:03.740597Z",
     "iopub.execute_input": "2022-12-14T01:25:03.741088Z",
     "iopub.status.idle": "2022-12-14T01:25:03.750579Z",
     "shell.execute_reply.started": "2022-12-14T01:25:03.741052Z",
     "shell.execute_reply": "2022-12-14T01:25:03.748588Z"
    },
    "trusted": true
   },
   "execution_count": 43,
   "outputs": [
    {
     "execution_count": 43,
     "output_type": "execute_result",
     "data": {
      "text/plain": "3054343     438.132996\n3054344     154.552994\n3054345    2419.729004\n3054346     121.000000\n3054347      16.000000\nName: sales, dtype: float32"
     },
     "metadata": {}
    }
   ]
  },
  {
   "cell_type": "code",
   "source": [
    "train.isnull().sum()"
   ],
   "metadata": {
    "execution": {
     "iopub.status.busy": "2022-12-14T01:25:05.692539Z",
     "iopub.execute_input": "2022-12-14T01:25:05.693025Z",
     "iopub.status.idle": "2022-12-14T01:25:05.747666Z",
     "shell.execute_reply.started": "2022-12-14T01:25:05.692988Z",
     "shell.execute_reply": "2022-12-14T01:25:05.745458Z"
    },
    "trusted": true
   },
   "execution_count": 44,
   "outputs": [
    {
     "execution_count": 44,
     "output_type": "execute_result",
     "data": {
      "text/plain": "store_nbr            0\nfamily               0\nonpromotion          0\ncity                 0\nstate                0\ntype_x               0\ncluster              0\ntype_y         2551824\nlocale         2551824\nlocale_name    2551824\ndescription    2551824\ntransferred    2551824\nma_oil           58806\nwd                   0\ndtype: int64"
     },
     "metadata": {}
    }
   ]
  },
  {
   "cell_type": "code",
   "source": [
    "train.dtypes"
   ],
   "metadata": {
    "execution": {
     "iopub.status.busy": "2022-12-14T01:25:07.868619Z",
     "iopub.execute_input": "2022-12-14T01:25:07.869025Z",
     "iopub.status.idle": "2022-12-14T01:25:07.880605Z",
     "shell.execute_reply.started": "2022-12-14T01:25:07.868998Z",
     "shell.execute_reply": "2022-12-14T01:25:07.879251Z"
    },
    "trusted": true
   },
   "execution_count": 45,
   "outputs": [
    {
     "execution_count": 45,
     "output_type": "execute_result",
     "data": {
      "text/plain": "store_nbr        int64\nfamily            int8\nonpromotion    float32\ncity              int8\nstate             int8\ntype_x            int8\ncluster          int64\ntype_y         float64\nlocale         float64\nlocale_name    float64\ndescription    float64\ntransferred    float64\nma_oil         float64\nwd                bool\ndtype: object"
     },
     "metadata": {}
    }
   ]
  },
  {
   "cell_type": "code",
   "source": [
    "train['type_y'] = train['type_x'].fillna(\"Normal\").astype('category').cat.codes\n",
    "train['locale'] = train['locale'].fillna(\"Normal\").astype('category').cat.codes\n",
    "train['locale_name'] = train['locale_name'].fillna(\"Normal\").astype('category').cat.codes\n",
    "train['description'] = train['description'].fillna(\"Normal\").astype('category').cat.codes\n",
    "train['transferred'] = train['transferred'].fillna(False).astype('category').cat.codes\n",
    "train.head()"
   ],
   "metadata": {
    "execution": {
     "iopub.status.busy": "2022-12-14T01:25:10.132335Z",
     "iopub.execute_input": "2022-12-14T01:25:10.132741Z",
     "iopub.status.idle": "2022-12-14T01:25:11.923336Z",
     "shell.execute_reply.started": "2022-12-14T01:25:10.132712Z",
     "shell.execute_reply": "2022-12-14T01:25:11.921698Z"
    },
    "trusted": true
   },
   "execution_count": 46,
   "outputs": [
    {
     "execution_count": 46,
     "output_type": "execute_result",
     "data": {
      "text/plain": "   store_nbr  family  onpromotion  city  state  type_x  cluster  type_y  \\\n0          1       0          0.0    18     12       3       13       3   \n1          1       1          0.0    18     12       3       13       3   \n2          1       2          0.0    18     12       3       13       3   \n3          1       3          0.0    18     12       3       13       3   \n4          1       4          0.0    18     12       3       13       3   \n\n   locale  locale_name  description  transferred  ma_oil    wd  \n0       1            4           50            0   93.12  True  \n1       1            4           50            0   93.12  True  \n2       1            4           50            0   93.12  True  \n3       1            4           50            0   93.12  True  \n4       1            4           50            0   93.12  True  ",
      "text/html": "<div>\n<style scoped>\n    .dataframe tbody tr th:only-of-type {\n        vertical-align: middle;\n    }\n\n    .dataframe tbody tr th {\n        vertical-align: top;\n    }\n\n    .dataframe thead th {\n        text-align: right;\n    }\n</style>\n<table border=\"1\" class=\"dataframe\">\n  <thead>\n    <tr style=\"text-align: right;\">\n      <th></th>\n      <th>store_nbr</th>\n      <th>family</th>\n      <th>onpromotion</th>\n      <th>city</th>\n      <th>state</th>\n      <th>type_x</th>\n      <th>cluster</th>\n      <th>type_y</th>\n      <th>locale</th>\n      <th>locale_name</th>\n      <th>description</th>\n      <th>transferred</th>\n      <th>ma_oil</th>\n      <th>wd</th>\n    </tr>\n  </thead>\n  <tbody>\n    <tr>\n      <th>0</th>\n      <td>1</td>\n      <td>0</td>\n      <td>0.0</td>\n      <td>18</td>\n      <td>12</td>\n      <td>3</td>\n      <td>13</td>\n      <td>3</td>\n      <td>1</td>\n      <td>4</td>\n      <td>50</td>\n      <td>0</td>\n      <td>93.12</td>\n      <td>True</td>\n    </tr>\n    <tr>\n      <th>1</th>\n      <td>1</td>\n      <td>1</td>\n      <td>0.0</td>\n      <td>18</td>\n      <td>12</td>\n      <td>3</td>\n      <td>13</td>\n      <td>3</td>\n      <td>1</td>\n      <td>4</td>\n      <td>50</td>\n      <td>0</td>\n      <td>93.12</td>\n      <td>True</td>\n    </tr>\n    <tr>\n      <th>2</th>\n      <td>1</td>\n      <td>2</td>\n      <td>0.0</td>\n      <td>18</td>\n      <td>12</td>\n      <td>3</td>\n      <td>13</td>\n      <td>3</td>\n      <td>1</td>\n      <td>4</td>\n      <td>50</td>\n      <td>0</td>\n      <td>93.12</td>\n      <td>True</td>\n    </tr>\n    <tr>\n      <th>3</th>\n      <td>1</td>\n      <td>3</td>\n      <td>0.0</td>\n      <td>18</td>\n      <td>12</td>\n      <td>3</td>\n      <td>13</td>\n      <td>3</td>\n      <td>1</td>\n      <td>4</td>\n      <td>50</td>\n      <td>0</td>\n      <td>93.12</td>\n      <td>True</td>\n    </tr>\n    <tr>\n      <th>4</th>\n      <td>1</td>\n      <td>4</td>\n      <td>0.0</td>\n      <td>18</td>\n      <td>12</td>\n      <td>3</td>\n      <td>13</td>\n      <td>3</td>\n      <td>1</td>\n      <td>4</td>\n      <td>50</td>\n      <td>0</td>\n      <td>93.12</td>\n      <td>True</td>\n    </tr>\n  </tbody>\n</table>\n</div>"
     },
     "metadata": {}
    }
   ]
  },
  {
   "cell_type": "code",
   "source": [
    "train.isnull().sum()"
   ],
   "metadata": {
    "execution": {
     "iopub.status.busy": "2022-12-14T01:25:15.673254Z",
     "iopub.execute_input": "2022-12-14T01:25:15.673735Z",
     "iopub.status.idle": "2022-12-14T01:25:15.723536Z",
     "shell.execute_reply.started": "2022-12-14T01:25:15.673700Z",
     "shell.execute_reply": "2022-12-14T01:25:15.721891Z"
    },
    "trusted": true
   },
   "execution_count": 47,
   "outputs": [
    {
     "execution_count": 47,
     "output_type": "execute_result",
     "data": {
      "text/plain": "store_nbr          0\nfamily             0\nonpromotion        0\ncity               0\nstate              0\ntype_x             0\ncluster            0\ntype_y             0\nlocale             0\nlocale_name        0\ndescription        0\ntransferred        0\nma_oil         58806\nwd                 0\ndtype: int64"
     },
     "metadata": {}
    }
   ]
  },
  {
   "cell_type": "code",
   "source": [
    "# Create continguous moving average of oil prices\n",
    "stest = '2017-08-16'\n",
    "etest = '2017-08-31'\n",
    "calendar_test = pd.DataFrame(index=pd.date_range(stest,etest))\n",
    "########################################################################################################################\n",
    "# TODO 1: merge two DataFrame instances (data_oil and calendar) such that the merged instances has the same indexes\n",
    "# as calendar.\n",
    "# TODO 2: replace each NaN in data_oil['ma_oil'] by the first non-null value before it.\n",
    "# Hint: check the documentation of .merge() and .fillna() methods of pandas.DataFrame\n",
    "########################################################################################################################\n",
    "calendar_test = calendar_test.merge(data_oil, how='left', left_index=True, right_index=True) # merging data_oil and calendar dataframes into calendar dataframe\n",
    "calendar_test['ma_oil'].fillna(method='ffill', inplace=True) # replacing NaN values with the first non-NaN value before it - check what to do with the first few NaN values\n",
    "\n",
    "calendar_test['ma_oil']  = calendar.loc[stest:etest]['ma_oil'].values # add ma_oil attribute to the training dataframe\n",
    "calendar_test['wd']   = calendar.loc[stest:etest]['wd'].values # add wd attribute to the training dataframe\n",
    "del calendar_test['dcoilwtico']\n",
    "calendar_test.tail(16) # visualise calendar dataframe"
   ],
   "metadata": {
    "execution": {
     "iopub.status.busy": "2022-12-14T01:25:17.603060Z",
     "iopub.execute_input": "2022-12-14T01:25:17.603521Z",
     "iopub.status.idle": "2022-12-14T01:25:17.628457Z",
     "shell.execute_reply.started": "2022-12-14T01:25:17.603492Z",
     "shell.execute_reply": "2022-12-14T01:25:17.626664Z"
    },
    "trusted": true
   },
   "execution_count": 48,
   "outputs": [
    {
     "execution_count": 48,
     "output_type": "execute_result",
     "data": {
      "text/plain": "               ma_oil     wd\n2017-08-16  48.893125   True\n2017-08-17  48.798750   True\n2017-08-18  48.770000   True\n2017-08-19  48.770000  False\n2017-08-20  48.770000  False\n2017-08-21  48.624375   True\n2017-08-22  48.464375   True\n2017-08-23  48.418125   True\n2017-08-24  48.270625   True\n2017-08-25  48.184375   True\n2017-08-26  48.184375  False\n2017-08-27  48.184375  False\n2017-08-28  47.986250   True\n2017-08-29  47.804375   True\n2017-08-30  47.610000   True\n2017-08-31  47.464375   True",
      "text/html": "<div>\n<style scoped>\n    .dataframe tbody tr th:only-of-type {\n        vertical-align: middle;\n    }\n\n    .dataframe tbody tr th {\n        vertical-align: top;\n    }\n\n    .dataframe thead th {\n        text-align: right;\n    }\n</style>\n<table border=\"1\" class=\"dataframe\">\n  <thead>\n    <tr style=\"text-align: right;\">\n      <th></th>\n      <th>ma_oil</th>\n      <th>wd</th>\n    </tr>\n  </thead>\n  <tbody>\n    <tr>\n      <th>2017-08-16</th>\n      <td>48.893125</td>\n      <td>True</td>\n    </tr>\n    <tr>\n      <th>2017-08-17</th>\n      <td>48.798750</td>\n      <td>True</td>\n    </tr>\n    <tr>\n      <th>2017-08-18</th>\n      <td>48.770000</td>\n      <td>True</td>\n    </tr>\n    <tr>\n      <th>2017-08-19</th>\n      <td>48.770000</td>\n      <td>False</td>\n    </tr>\n    <tr>\n      <th>2017-08-20</th>\n      <td>48.770000</td>\n      <td>False</td>\n    </tr>\n    <tr>\n      <th>2017-08-21</th>\n      <td>48.624375</td>\n      <td>True</td>\n    </tr>\n    <tr>\n      <th>2017-08-22</th>\n      <td>48.464375</td>\n      <td>True</td>\n    </tr>\n    <tr>\n      <th>2017-08-23</th>\n      <td>48.418125</td>\n      <td>True</td>\n    </tr>\n    <tr>\n      <th>2017-08-24</th>\n      <td>48.270625</td>\n      <td>True</td>\n    </tr>\n    <tr>\n      <th>2017-08-25</th>\n      <td>48.184375</td>\n      <td>True</td>\n    </tr>\n    <tr>\n      <th>2017-08-26</th>\n      <td>48.184375</td>\n      <td>False</td>\n    </tr>\n    <tr>\n      <th>2017-08-27</th>\n      <td>48.184375</td>\n      <td>False</td>\n    </tr>\n    <tr>\n      <th>2017-08-28</th>\n      <td>47.986250</td>\n      <td>True</td>\n    </tr>\n    <tr>\n      <th>2017-08-29</th>\n      <td>47.804375</td>\n      <td>True</td>\n    </tr>\n    <tr>\n      <th>2017-08-30</th>\n      <td>47.610000</td>\n      <td>True</td>\n    </tr>\n    <tr>\n      <th>2017-08-31</th>\n      <td>47.464375</td>\n      <td>True</td>\n    </tr>\n  </tbody>\n</table>\n</div>"
     },
     "metadata": {}
    }
   ]
  },
  {
   "cell_type": "code",
   "source": [
    "########################################################################################################################\n",
    "# TODO: create a True/False feature calendar['wd'] to indicate whether each date is a workday (Monday-Friday) or not.\n",
    "# Hint: check documentation of pandas.DatetimeIndex.dayofweek\n",
    "########################################################################################################################\n",
    "# calendar_test['wd'] = calendar_test.index.dayofweek <= 4 # add days of week column to calendar dataframe\n",
    "calendar_test.index.name = 'date'\n",
    "calendar_test.reset_index(inplace=True)\n",
    "calendar_test.date = calendar_test.date.dt.to_period('D')\n",
    "calendar_test.tail(16) # visualize calendar"
   ],
   "metadata": {
    "execution": {
     "iopub.status.busy": "2022-12-14T01:25:31.607299Z",
     "iopub.execute_input": "2022-12-14T01:25:31.607766Z",
     "iopub.status.idle": "2022-12-14T01:25:31.626919Z",
     "shell.execute_reply.started": "2022-12-14T01:25:31.607732Z",
     "shell.execute_reply": "2022-12-14T01:25:31.625046Z"
    },
    "trusted": true
   },
   "execution_count": 49,
   "outputs": [
    {
     "execution_count": 49,
     "output_type": "execute_result",
     "data": {
      "text/plain": "          date     ma_oil     wd\n0   2017-08-16  48.893125   True\n1   2017-08-17  48.798750   True\n2   2017-08-18  48.770000   True\n3   2017-08-19  48.770000  False\n4   2017-08-20  48.770000  False\n5   2017-08-21  48.624375   True\n6   2017-08-22  48.464375   True\n7   2017-08-23  48.418125   True\n8   2017-08-24  48.270625   True\n9   2017-08-25  48.184375   True\n10  2017-08-26  48.184375  False\n11  2017-08-27  48.184375  False\n12  2017-08-28  47.986250   True\n13  2017-08-29  47.804375   True\n14  2017-08-30  47.610000   True\n15  2017-08-31  47.464375   True",
      "text/html": "<div>\n<style scoped>\n    .dataframe tbody tr th:only-of-type {\n        vertical-align: middle;\n    }\n\n    .dataframe tbody tr th {\n        vertical-align: top;\n    }\n\n    .dataframe thead th {\n        text-align: right;\n    }\n</style>\n<table border=\"1\" class=\"dataframe\">\n  <thead>\n    <tr style=\"text-align: right;\">\n      <th></th>\n      <th>date</th>\n      <th>ma_oil</th>\n      <th>wd</th>\n    </tr>\n  </thead>\n  <tbody>\n    <tr>\n      <th>0</th>\n      <td>2017-08-16</td>\n      <td>48.893125</td>\n      <td>True</td>\n    </tr>\n    <tr>\n      <th>1</th>\n      <td>2017-08-17</td>\n      <td>48.798750</td>\n      <td>True</td>\n    </tr>\n    <tr>\n      <th>2</th>\n      <td>2017-08-18</td>\n      <td>48.770000</td>\n      <td>True</td>\n    </tr>\n    <tr>\n      <th>3</th>\n      <td>2017-08-19</td>\n      <td>48.770000</td>\n      <td>False</td>\n    </tr>\n    <tr>\n      <th>4</th>\n      <td>2017-08-20</td>\n      <td>48.770000</td>\n      <td>False</td>\n    </tr>\n    <tr>\n      <th>5</th>\n      <td>2017-08-21</td>\n      <td>48.624375</td>\n      <td>True</td>\n    </tr>\n    <tr>\n      <th>6</th>\n      <td>2017-08-22</td>\n      <td>48.464375</td>\n      <td>True</td>\n    </tr>\n    <tr>\n      <th>7</th>\n      <td>2017-08-23</td>\n      <td>48.418125</td>\n      <td>True</td>\n    </tr>\n    <tr>\n      <th>8</th>\n      <td>2017-08-24</td>\n      <td>48.270625</td>\n      <td>True</td>\n    </tr>\n    <tr>\n      <th>9</th>\n      <td>2017-08-25</td>\n      <td>48.184375</td>\n      <td>True</td>\n    </tr>\n    <tr>\n      <th>10</th>\n      <td>2017-08-26</td>\n      <td>48.184375</td>\n      <td>False</td>\n    </tr>\n    <tr>\n      <th>11</th>\n      <td>2017-08-27</td>\n      <td>48.184375</td>\n      <td>False</td>\n    </tr>\n    <tr>\n      <th>12</th>\n      <td>2017-08-28</td>\n      <td>47.986250</td>\n      <td>True</td>\n    </tr>\n    <tr>\n      <th>13</th>\n      <td>2017-08-29</td>\n      <td>47.804375</td>\n      <td>True</td>\n    </tr>\n    <tr>\n      <th>14</th>\n      <td>2017-08-30</td>\n      <td>47.610000</td>\n      <td>True</td>\n    </tr>\n    <tr>\n      <th>15</th>\n      <td>2017-08-31</td>\n      <td>47.464375</td>\n      <td>True</td>\n    </tr>\n  </tbody>\n</table>\n</div>"
     },
     "metadata": {}
    }
   ]
  },
  {
   "cell_type": "code",
   "source": [
    "df_test = pd.read_csv(path + 'test.csv',\n",
    "                       usecols=['store_nbr', 'family', 'date', 'onpromotion'],\n",
    "                       dtype={'store_nbr': 'int', 'family': 'category', 'sales': 'float32', 'onpromotion': 'float32'},\n",
    "                       parse_dates=['date'], infer_datetime_format=True)\n",
    "\n",
    "df_test.date = df_test.date.dt.to_period('D')\n",
    "df_test = df_test.set_index(['date']).sort_index()\n",
    "df_test.reset_index(inplace=True)\n",
    "df_test['family'] = df_test['family'].cat.codes\n",
    "# df_test['store_nbr'] = df_test['store_nbr'].cat.codes\n",
    "df_test.tail(5) # display some entries of the training data"
   ],
   "metadata": {
    "execution": {
     "iopub.status.busy": "2022-12-14T01:25:34.158777Z",
     "iopub.execute_input": "2022-12-14T01:25:34.159264Z",
     "iopub.status.idle": "2022-12-14T01:25:34.200003Z",
     "shell.execute_reply.started": "2022-12-14T01:25:34.159227Z",
     "shell.execute_reply": "2022-12-14T01:25:34.198664Z"
    },
    "trusted": true
   },
   "execution_count": 50,
   "outputs": [
    {
     "execution_count": 50,
     "output_type": "execute_result",
     "data": {
      "text/plain": "             date  store_nbr  family  onpromotion\n28507  2017-08-31          9      28          1.0\n28508  2017-08-31          9      29          0.0\n28509  2017-08-31          9      30          1.0\n28510  2017-08-31          9      31          9.0\n28511  2017-08-31          9      32          0.0",
      "text/html": "<div>\n<style scoped>\n    .dataframe tbody tr th:only-of-type {\n        vertical-align: middle;\n    }\n\n    .dataframe tbody tr th {\n        vertical-align: top;\n    }\n\n    .dataframe thead th {\n        text-align: right;\n    }\n</style>\n<table border=\"1\" class=\"dataframe\">\n  <thead>\n    <tr style=\"text-align: right;\">\n      <th></th>\n      <th>date</th>\n      <th>store_nbr</th>\n      <th>family</th>\n      <th>onpromotion</th>\n    </tr>\n  </thead>\n  <tbody>\n    <tr>\n      <th>28507</th>\n      <td>2017-08-31</td>\n      <td>9</td>\n      <td>28</td>\n      <td>1.0</td>\n    </tr>\n    <tr>\n      <th>28508</th>\n      <td>2017-08-31</td>\n      <td>9</td>\n      <td>29</td>\n      <td>0.0</td>\n    </tr>\n    <tr>\n      <th>28509</th>\n      <td>2017-08-31</td>\n      <td>9</td>\n      <td>30</td>\n      <td>1.0</td>\n    </tr>\n    <tr>\n      <th>28510</th>\n      <td>2017-08-31</td>\n      <td>9</td>\n      <td>31</td>\n      <td>9.0</td>\n    </tr>\n    <tr>\n      <th>28511</th>\n      <td>2017-08-31</td>\n      <td>9</td>\n      <td>32</td>\n      <td>0.0</td>\n    </tr>\n  </tbody>\n</table>\n</div>"
     },
     "metadata": {}
    }
   ]
  },
  {
   "cell_type": "code",
   "source": [
    "df_test = df_test.merge(data_stores, how='left',on='store_nbr')\n",
    "df_test.head()"
   ],
   "metadata": {
    "execution": {
     "iopub.status.busy": "2022-12-14T01:25:36.717902Z",
     "iopub.execute_input": "2022-12-14T01:25:36.718367Z",
     "iopub.status.idle": "2022-12-14T01:25:36.742645Z",
     "shell.execute_reply.started": "2022-12-14T01:25:36.718333Z",
     "shell.execute_reply": "2022-12-14T01:25:36.740635Z"
    },
    "trusted": true
   },
   "execution_count": 51,
   "outputs": [
    {
     "execution_count": 51,
     "output_type": "execute_result",
     "data": {
      "text/plain": "         date  store_nbr  family  onpromotion  city  state  type  cluster\n0  2017-08-16          1       0          0.0    18     12     3       13\n1  2017-08-16          1       1          0.0    18     12     3       13\n2  2017-08-16          1       2          2.0    18     12     3       13\n3  2017-08-16          1       3         20.0    18     12     3       13\n4  2017-08-16          1       4          0.0    18     12     3       13",
      "text/html": "<div>\n<style scoped>\n    .dataframe tbody tr th:only-of-type {\n        vertical-align: middle;\n    }\n\n    .dataframe tbody tr th {\n        vertical-align: top;\n    }\n\n    .dataframe thead th {\n        text-align: right;\n    }\n</style>\n<table border=\"1\" class=\"dataframe\">\n  <thead>\n    <tr style=\"text-align: right;\">\n      <th></th>\n      <th>date</th>\n      <th>store_nbr</th>\n      <th>family</th>\n      <th>onpromotion</th>\n      <th>city</th>\n      <th>state</th>\n      <th>type</th>\n      <th>cluster</th>\n    </tr>\n  </thead>\n  <tbody>\n    <tr>\n      <th>0</th>\n      <td>2017-08-16</td>\n      <td>1</td>\n      <td>0</td>\n      <td>0.0</td>\n      <td>18</td>\n      <td>12</td>\n      <td>3</td>\n      <td>13</td>\n    </tr>\n    <tr>\n      <th>1</th>\n      <td>2017-08-16</td>\n      <td>1</td>\n      <td>1</td>\n      <td>0.0</td>\n      <td>18</td>\n      <td>12</td>\n      <td>3</td>\n      <td>13</td>\n    </tr>\n    <tr>\n      <th>2</th>\n      <td>2017-08-16</td>\n      <td>1</td>\n      <td>2</td>\n      <td>2.0</td>\n      <td>18</td>\n      <td>12</td>\n      <td>3</td>\n      <td>13</td>\n    </tr>\n    <tr>\n      <th>3</th>\n      <td>2017-08-16</td>\n      <td>1</td>\n      <td>3</td>\n      <td>20.0</td>\n      <td>18</td>\n      <td>12</td>\n      <td>3</td>\n      <td>13</td>\n    </tr>\n    <tr>\n      <th>4</th>\n      <td>2017-08-16</td>\n      <td>1</td>\n      <td>4</td>\n      <td>0.0</td>\n      <td>18</td>\n      <td>12</td>\n      <td>3</td>\n      <td>13</td>\n    </tr>\n  </tbody>\n</table>\n</div>"
     },
     "metadata": {}
    }
   ]
  },
  {
   "cell_type": "code",
   "source": [
    "df_test = pd.merge(df_test,data_holidays, how='left',on='date')\n",
    "df_test.head()"
   ],
   "metadata": {
    "execution": {
     "iopub.status.busy": "2022-12-14T01:25:39.158282Z",
     "iopub.execute_input": "2022-12-14T01:25:39.158687Z",
     "iopub.status.idle": "2022-12-14T01:25:39.184288Z",
     "shell.execute_reply.started": "2022-12-14T01:25:39.158660Z",
     "shell.execute_reply": "2022-12-14T01:25:39.183217Z"
    },
    "trusted": true
   },
   "execution_count": 52,
   "outputs": [
    {
     "execution_count": 52,
     "output_type": "execute_result",
     "data": {
      "text/plain": "         date  store_nbr  family  onpromotion  city  state  type_x  cluster  \\\n0  2017-08-16          1       0          0.0    18     12       3       13   \n1  2017-08-16          1       1          0.0    18     12       3       13   \n2  2017-08-16          1       2          2.0    18     12       3       13   \n3  2017-08-16          1       3         20.0    18     12       3       13   \n4  2017-08-16          1       4          0.0    18     12       3       13   \n\n   type_y  locale  locale_name  description  transferred  \n0     NaN     NaN          NaN          NaN          NaN  \n1     NaN     NaN          NaN          NaN          NaN  \n2     NaN     NaN          NaN          NaN          NaN  \n3     NaN     NaN          NaN          NaN          NaN  \n4     NaN     NaN          NaN          NaN          NaN  ",
      "text/html": "<div>\n<style scoped>\n    .dataframe tbody tr th:only-of-type {\n        vertical-align: middle;\n    }\n\n    .dataframe tbody tr th {\n        vertical-align: top;\n    }\n\n    .dataframe thead th {\n        text-align: right;\n    }\n</style>\n<table border=\"1\" class=\"dataframe\">\n  <thead>\n    <tr style=\"text-align: right;\">\n      <th></th>\n      <th>date</th>\n      <th>store_nbr</th>\n      <th>family</th>\n      <th>onpromotion</th>\n      <th>city</th>\n      <th>state</th>\n      <th>type_x</th>\n      <th>cluster</th>\n      <th>type_y</th>\n      <th>locale</th>\n      <th>locale_name</th>\n      <th>description</th>\n      <th>transferred</th>\n    </tr>\n  </thead>\n  <tbody>\n    <tr>\n      <th>0</th>\n      <td>2017-08-16</td>\n      <td>1</td>\n      <td>0</td>\n      <td>0.0</td>\n      <td>18</td>\n      <td>12</td>\n      <td>3</td>\n      <td>13</td>\n      <td>NaN</td>\n      <td>NaN</td>\n      <td>NaN</td>\n      <td>NaN</td>\n      <td>NaN</td>\n    </tr>\n    <tr>\n      <th>1</th>\n      <td>2017-08-16</td>\n      <td>1</td>\n      <td>1</td>\n      <td>0.0</td>\n      <td>18</td>\n      <td>12</td>\n      <td>3</td>\n      <td>13</td>\n      <td>NaN</td>\n      <td>NaN</td>\n      <td>NaN</td>\n      <td>NaN</td>\n      <td>NaN</td>\n    </tr>\n    <tr>\n      <th>2</th>\n      <td>2017-08-16</td>\n      <td>1</td>\n      <td>2</td>\n      <td>2.0</td>\n      <td>18</td>\n      <td>12</td>\n      <td>3</td>\n      <td>13</td>\n      <td>NaN</td>\n      <td>NaN</td>\n      <td>NaN</td>\n      <td>NaN</td>\n      <td>NaN</td>\n    </tr>\n    <tr>\n      <th>3</th>\n      <td>2017-08-16</td>\n      <td>1</td>\n      <td>3</td>\n      <td>20.0</td>\n      <td>18</td>\n      <td>12</td>\n      <td>3</td>\n      <td>13</td>\n      <td>NaN</td>\n      <td>NaN</td>\n      <td>NaN</td>\n      <td>NaN</td>\n      <td>NaN</td>\n    </tr>\n    <tr>\n      <th>4</th>\n      <td>2017-08-16</td>\n      <td>1</td>\n      <td>4</td>\n      <td>0.0</td>\n      <td>18</td>\n      <td>12</td>\n      <td>3</td>\n      <td>13</td>\n      <td>NaN</td>\n      <td>NaN</td>\n      <td>NaN</td>\n      <td>NaN</td>\n      <td>NaN</td>\n    </tr>\n  </tbody>\n</table>\n</div>"
     },
     "metadata": {}
    }
   ]
  },
  {
   "cell_type": "code",
   "source": [
    "test = pd.merge(df_test,calendar_test,how='outer',on='date')\n",
    "test = test.drop('date', axis=1)\n",
    "\n",
    "test.tail(5)"
   ],
   "metadata": {
    "execution": {
     "iopub.status.busy": "2022-12-14T01:25:41.719476Z",
     "iopub.execute_input": "2022-12-14T01:25:41.720033Z",
     "iopub.status.idle": "2022-12-14T01:25:41.751303Z",
     "shell.execute_reply.started": "2022-12-14T01:25:41.719990Z",
     "shell.execute_reply": "2022-12-14T01:25:41.749592Z"
    },
    "trusted": true
   },
   "execution_count": 53,
   "outputs": [
    {
     "execution_count": 53,
     "output_type": "execute_result",
     "data": {
      "text/plain": "       store_nbr  family  onpromotion  city  state  type_x  cluster  type_y  \\\n28507          9      28          1.0    18     12       1        6     NaN   \n28508          9      29          0.0    18     12       1        6     NaN   \n28509          9      30          1.0    18     12       1        6     NaN   \n28510          9      31          9.0    18     12       1        6     NaN   \n28511          9      32          0.0    18     12       1        6     NaN   \n\n       locale  locale_name  description  transferred     ma_oil    wd  \n28507     NaN          NaN          NaN          NaN  47.464375  True  \n28508     NaN          NaN          NaN          NaN  47.464375  True  \n28509     NaN          NaN          NaN          NaN  47.464375  True  \n28510     NaN          NaN          NaN          NaN  47.464375  True  \n28511     NaN          NaN          NaN          NaN  47.464375  True  ",
      "text/html": "<div>\n<style scoped>\n    .dataframe tbody tr th:only-of-type {\n        vertical-align: middle;\n    }\n\n    .dataframe tbody tr th {\n        vertical-align: top;\n    }\n\n    .dataframe thead th {\n        text-align: right;\n    }\n</style>\n<table border=\"1\" class=\"dataframe\">\n  <thead>\n    <tr style=\"text-align: right;\">\n      <th></th>\n      <th>store_nbr</th>\n      <th>family</th>\n      <th>onpromotion</th>\n      <th>city</th>\n      <th>state</th>\n      <th>type_x</th>\n      <th>cluster</th>\n      <th>type_y</th>\n      <th>locale</th>\n      <th>locale_name</th>\n      <th>description</th>\n      <th>transferred</th>\n      <th>ma_oil</th>\n      <th>wd</th>\n    </tr>\n  </thead>\n  <tbody>\n    <tr>\n      <th>28507</th>\n      <td>9</td>\n      <td>28</td>\n      <td>1.0</td>\n      <td>18</td>\n      <td>12</td>\n      <td>1</td>\n      <td>6</td>\n      <td>NaN</td>\n      <td>NaN</td>\n      <td>NaN</td>\n      <td>NaN</td>\n      <td>NaN</td>\n      <td>47.464375</td>\n      <td>True</td>\n    </tr>\n    <tr>\n      <th>28508</th>\n      <td>9</td>\n      <td>29</td>\n      <td>0.0</td>\n      <td>18</td>\n      <td>12</td>\n      <td>1</td>\n      <td>6</td>\n      <td>NaN</td>\n      <td>NaN</td>\n      <td>NaN</td>\n      <td>NaN</td>\n      <td>NaN</td>\n      <td>47.464375</td>\n      <td>True</td>\n    </tr>\n    <tr>\n      <th>28509</th>\n      <td>9</td>\n      <td>30</td>\n      <td>1.0</td>\n      <td>18</td>\n      <td>12</td>\n      <td>1</td>\n      <td>6</td>\n      <td>NaN</td>\n      <td>NaN</td>\n      <td>NaN</td>\n      <td>NaN</td>\n      <td>NaN</td>\n      <td>47.464375</td>\n      <td>True</td>\n    </tr>\n    <tr>\n      <th>28510</th>\n      <td>9</td>\n      <td>31</td>\n      <td>9.0</td>\n      <td>18</td>\n      <td>12</td>\n      <td>1</td>\n      <td>6</td>\n      <td>NaN</td>\n      <td>NaN</td>\n      <td>NaN</td>\n      <td>NaN</td>\n      <td>NaN</td>\n      <td>47.464375</td>\n      <td>True</td>\n    </tr>\n    <tr>\n      <th>28511</th>\n      <td>9</td>\n      <td>32</td>\n      <td>0.0</td>\n      <td>18</td>\n      <td>12</td>\n      <td>1</td>\n      <td>6</td>\n      <td>NaN</td>\n      <td>NaN</td>\n      <td>NaN</td>\n      <td>NaN</td>\n      <td>NaN</td>\n      <td>47.464375</td>\n      <td>True</td>\n    </tr>\n  </tbody>\n</table>\n</div>"
     },
     "metadata": {}
    }
   ]
  },
  {
   "cell_type": "code",
   "source": [
    "test.isnull().sum()"
   ],
   "metadata": {
    "execution": {
     "iopub.status.busy": "2022-12-14T01:25:44.343475Z",
     "iopub.execute_input": "2022-12-14T01:25:44.343889Z",
     "iopub.status.idle": "2022-12-14T01:25:44.355971Z",
     "shell.execute_reply.started": "2022-12-14T01:25:44.343862Z",
     "shell.execute_reply": "2022-12-14T01:25:44.354683Z"
    },
    "trusted": true
   },
   "execution_count": 54,
   "outputs": [
    {
     "execution_count": 54,
     "output_type": "execute_result",
     "data": {
      "text/plain": "store_nbr          0\nfamily             0\nonpromotion        0\ncity               0\nstate              0\ntype_x             0\ncluster            0\ntype_y         26730\nlocale         26730\nlocale_name    26730\ndescription    26730\ntransferred    26730\nma_oil             0\nwd                 0\ndtype: int64"
     },
     "metadata": {}
    }
   ]
  },
  {
   "cell_type": "code",
   "source": [
    "test['type_y'] = test['type_y'].fillna(\"Normal\").astype('category').cat.codes\n",
    "test['locale'] = test['locale'].fillna(\"Normal\").astype('category').cat.codes\n",
    "test['locale_name'] = test['locale_name'].fillna(\"Normal\").astype('category').cat.codes\n",
    "test['description'] = test['description'].fillna(\"Normal\").astype('category').cat.codes\n",
    "test['transferred'] = test['transferred'].fillna(False).astype('category').cat.codes\n",
    "test.tail(5)"
   ],
   "metadata": {
    "execution": {
     "iopub.status.busy": "2022-12-14T01:25:46.176579Z",
     "iopub.execute_input": "2022-12-14T01:25:46.177345Z",
     "iopub.status.idle": "2022-12-14T01:25:46.231467Z",
     "shell.execute_reply.started": "2022-12-14T01:25:46.177286Z",
     "shell.execute_reply": "2022-12-14T01:25:46.229509Z"
    },
    "trusted": true
   },
   "execution_count": 55,
   "outputs": [
    {
     "execution_count": 55,
     "output_type": "execute_result",
     "data": {
      "text/plain": "       store_nbr  family  onpromotion  city  state  type_x  cluster  type_y  \\\n28507          9      28          1.0    18     12       1        6       1   \n28508          9      29          0.0    18     12       1        6       1   \n28509          9      30          1.0    18     12       1        6       1   \n28510          9      31          9.0    18     12       1        6       1   \n28511          9      32          0.0    18     12       1        6       1   \n\n       locale  locale_name  description  transferred     ma_oil    wd  \n28507       1            1            1            0  47.464375  True  \n28508       1            1            1            0  47.464375  True  \n28509       1            1            1            0  47.464375  True  \n28510       1            1            1            0  47.464375  True  \n28511       1            1            1            0  47.464375  True  ",
      "text/html": "<div>\n<style scoped>\n    .dataframe tbody tr th:only-of-type {\n        vertical-align: middle;\n    }\n\n    .dataframe tbody tr th {\n        vertical-align: top;\n    }\n\n    .dataframe thead th {\n        text-align: right;\n    }\n</style>\n<table border=\"1\" class=\"dataframe\">\n  <thead>\n    <tr style=\"text-align: right;\">\n      <th></th>\n      <th>store_nbr</th>\n      <th>family</th>\n      <th>onpromotion</th>\n      <th>city</th>\n      <th>state</th>\n      <th>type_x</th>\n      <th>cluster</th>\n      <th>type_y</th>\n      <th>locale</th>\n      <th>locale_name</th>\n      <th>description</th>\n      <th>transferred</th>\n      <th>ma_oil</th>\n      <th>wd</th>\n    </tr>\n  </thead>\n  <tbody>\n    <tr>\n      <th>28507</th>\n      <td>9</td>\n      <td>28</td>\n      <td>1.0</td>\n      <td>18</td>\n      <td>12</td>\n      <td>1</td>\n      <td>6</td>\n      <td>1</td>\n      <td>1</td>\n      <td>1</td>\n      <td>1</td>\n      <td>0</td>\n      <td>47.464375</td>\n      <td>True</td>\n    </tr>\n    <tr>\n      <th>28508</th>\n      <td>9</td>\n      <td>29</td>\n      <td>0.0</td>\n      <td>18</td>\n      <td>12</td>\n      <td>1</td>\n      <td>6</td>\n      <td>1</td>\n      <td>1</td>\n      <td>1</td>\n      <td>1</td>\n      <td>0</td>\n      <td>47.464375</td>\n      <td>True</td>\n    </tr>\n    <tr>\n      <th>28509</th>\n      <td>9</td>\n      <td>30</td>\n      <td>1.0</td>\n      <td>18</td>\n      <td>12</td>\n      <td>1</td>\n      <td>6</td>\n      <td>1</td>\n      <td>1</td>\n      <td>1</td>\n      <td>1</td>\n      <td>0</td>\n      <td>47.464375</td>\n      <td>True</td>\n    </tr>\n    <tr>\n      <th>28510</th>\n      <td>9</td>\n      <td>31</td>\n      <td>9.0</td>\n      <td>18</td>\n      <td>12</td>\n      <td>1</td>\n      <td>6</td>\n      <td>1</td>\n      <td>1</td>\n      <td>1</td>\n      <td>1</td>\n      <td>0</td>\n      <td>47.464375</td>\n      <td>True</td>\n    </tr>\n    <tr>\n      <th>28511</th>\n      <td>9</td>\n      <td>32</td>\n      <td>0.0</td>\n      <td>18</td>\n      <td>12</td>\n      <td>1</td>\n      <td>6</td>\n      <td>1</td>\n      <td>1</td>\n      <td>1</td>\n      <td>1</td>\n      <td>0</td>\n      <td>47.464375</td>\n      <td>True</td>\n    </tr>\n  </tbody>\n</table>\n</div>"
     },
     "metadata": {}
    }
   ]
  },
  {
   "cell_type": "code",
   "source": [
    "test.isnull().sum()"
   ],
   "metadata": {
    "execution": {
     "iopub.status.busy": "2022-12-14T01:25:48.769201Z",
     "iopub.execute_input": "2022-12-14T01:25:48.769668Z",
     "iopub.status.idle": "2022-12-14T01:25:48.781530Z",
     "shell.execute_reply.started": "2022-12-14T01:25:48.769633Z",
     "shell.execute_reply": "2022-12-14T01:25:48.780484Z"
    },
    "trusted": true
   },
   "execution_count": 56,
   "outputs": [
    {
     "execution_count": 56,
     "output_type": "execute_result",
     "data": {
      "text/plain": "store_nbr      0\nfamily         0\nonpromotion    0\ncity           0\nstate          0\ntype_x         0\ncluster        0\ntype_y         0\nlocale         0\nlocale_name    0\ndescription    0\ntransferred    0\nma_oil         0\nwd             0\ndtype: int64"
     },
     "metadata": {}
    }
   ]
  },
  {
   "cell_type": "code",
   "source": [
    "print(len(df_test),len(test))"
   ],
   "metadata": {
    "execution": {
     "iopub.status.busy": "2022-12-14T01:25:50.698378Z",
     "iopub.execute_input": "2022-12-14T01:25:50.699371Z",
     "iopub.status.idle": "2022-12-14T01:25:50.706737Z",
     "shell.execute_reply.started": "2022-12-14T01:25:50.699327Z",
     "shell.execute_reply": "2022-12-14T01:25:50.705682Z"
    },
    "trusted": true
   },
   "execution_count": 57,
   "outputs": [
    {
     "name": "stdout",
     "text": "28512 28512\n",
     "output_type": "stream"
    }
   ]
  },
  {
   "cell_type": "code",
   "source": [
    "model = lgb.LGBMRegressor(objective='regression_l1', max_depth=20)\n",
    "model.fit(train,y_train)"
   ],
   "metadata": {
    "execution": {
     "iopub.status.busy": "2022-12-14T01:44:31.274996Z",
     "iopub.execute_input": "2022-12-14T01:44:31.275488Z",
     "iopub.status.idle": "2022-12-14T01:44:52.560048Z",
     "shell.execute_reply.started": "2022-12-14T01:44:31.275445Z",
     "shell.execute_reply": "2022-12-14T01:44:52.558605Z"
    },
    "trusted": true
   },
   "execution_count": 62,
   "outputs": [
    {
     "execution_count": 62,
     "output_type": "execute_result",
     "data": {
      "text/plain": "LGBMRegressor(max_depth=20, objective='regression_l1')"
     },
     "metadata": {}
    }
   ]
  },
  {
   "cell_type": "code",
   "source": [
    "sales_pred = model.predict(test)\n",
    "sales_pred[sales_pred < 0] = 0. # Sales should be >= 0"
   ],
   "metadata": {
    "execution": {
     "iopub.status.busy": "2022-12-14T01:45:02.385027Z",
     "iopub.execute_input": "2022-12-14T01:45:02.385527Z",
     "iopub.status.idle": "2022-12-14T01:45:02.495040Z",
     "shell.execute_reply.started": "2022-12-14T01:45:02.385491Z",
     "shell.execute_reply": "2022-12-14T01:45:02.493239Z"
    },
    "trusted": true
   },
   "execution_count": 63,
   "outputs": []
  },
  {
   "cell_type": "code",
   "source": [
    "# Create submission\n",
    "df_sub = pd.read_csv(path + 'sample_submission.csv', index_col='id')\n",
    "df_sub.sales = sales_pred\n",
    "df_sub.to_csv('submission.csv', index=True)"
   ],
   "metadata": {
    "execution": {
     "iopub.status.busy": "2022-12-14T01:45:04.140014Z",
     "iopub.execute_input": "2022-12-14T01:45:04.140476Z",
     "iopub.status.idle": "2022-12-14T01:45:04.208704Z",
     "shell.execute_reply.started": "2022-12-14T01:45:04.140439Z",
     "shell.execute_reply": "2022-12-14T01:45:04.207346Z"
    },
    "trusted": true
   },
   "execution_count": 64,
   "outputs": []
  }
 ]
}
