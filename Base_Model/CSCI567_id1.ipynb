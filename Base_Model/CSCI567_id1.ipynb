{
 "cells": [
  {
   "cell_type": "code",
   "execution_count": 1,
   "id": "76bd0a64",
   "metadata": {
    "_cell_guid": "b1076dfc-b9ad-4769-8c92-a6c4dae69d19",
    "_uuid": "8f2839f25d086af736a60e9eeb907d3b93b6e0e5",
    "execution": {
     "iopub.execute_input": "2022-11-08T02:26:26.303981Z",
     "iopub.status.busy": "2022-11-08T02:26:26.303572Z",
     "iopub.status.idle": "2022-11-08T02:26:27.339374Z",
     "shell.execute_reply": "2022-11-08T02:26:27.338476Z"
    },
    "papermill": {
     "duration": 1.044095,
     "end_time": "2022-11-08T02:26:27.341589",
     "exception": false,
     "start_time": "2022-11-08T02:26:26.297494",
     "status": "completed"
    },
    "tags": [],
    "pycharm": {
     "name": "#%%\n"
    }
   },
   "outputs": [],
   "source": [
    "import numpy as np\n",
    "import pandas as pd\n",
    "from sklearn.linear_model import LinearRegression\n",
    "from sklearn.metrics import mean_squared_log_error\n",
    "from statsmodels.tsa.deterministic import DeterministicProcess"
   ]
  },
  {
   "cell_type": "code",
   "execution_count": 2,
   "id": "1fcafa1b",
   "metadata": {
    "execution": {
     "iopub.execute_input": "2022-11-08T02:26:27.350499Z",
     "iopub.status.busy": "2022-11-08T02:26:27.350126Z",
     "iopub.status.idle": "2022-11-08T02:26:27.353808Z",
     "shell.execute_reply": "2022-11-08T02:26:27.353251Z"
    },
    "papermill": {
     "duration": 0.009708,
     "end_time": "2022-11-08T02:26:27.355371",
     "exception": false,
     "start_time": "2022-11-08T02:26:27.345663",
     "status": "completed"
    },
    "tags": [],
    "pycharm": {
     "name": "#%%\n"
    }
   },
   "outputs": [],
   "source": [
    "# path to the dataset in Kaggle's notebook\n",
    "path = '../input/store-sales-time-series-forecasting/'"
   ]
  },
  {
   "cell_type": "markdown",
   "id": "3452cd9c",
   "metadata": {
    "papermill": {
     "duration": 0.003361,
     "end_time": "2022-11-08T02:26:27.362328",
     "exception": false,
     "start_time": "2022-11-08T02:26:27.358967",
     "status": "completed"
    },
    "tags": [],
    "pycharm": {
     "name": "#%% md\n"
    }
   },
   "source": [
    "### 1. Compute Moving Average of Oil Prices"
   ]
  },
  {
   "cell_type": "code",
   "execution_count": 3,
   "id": "19099806",
   "metadata": {
    "execution": {
     "iopub.execute_input": "2022-11-08T02:26:27.370999Z",
     "iopub.status.busy": "2022-11-08T02:26:27.370066Z",
     "iopub.status.idle": "2022-11-08T02:26:27.423755Z",
     "shell.execute_reply": "2022-11-08T02:26:27.422747Z"
    },
    "papermill": {
     "duration": 0.06005,
     "end_time": "2022-11-08T02:26:27.425877",
     "exception": false,
     "start_time": "2022-11-08T02:26:27.365827",
     "status": "completed"
    },
    "tags": [],
    "pycharm": {
     "name": "#%%\n"
    }
   },
   "outputs": [
    {
     "data": {
      "text/html": [
       "<div>\n",
       "<style scoped>\n",
       "    .dataframe tbody tr th:only-of-type {\n",
       "        vertical-align: middle;\n",
       "    }\n",
       "\n",
       "    .dataframe tbody tr th {\n",
       "        vertical-align: top;\n",
       "    }\n",
       "\n",
       "    .dataframe thead th {\n",
       "        text-align: right;\n",
       "    }\n",
       "</style>\n",
       "<table border=\"1\" class=\"dataframe\">\n",
       "  <thead>\n",
       "    <tr style=\"text-align: right;\">\n",
       "      <th></th>\n",
       "      <th>dcoilwtico</th>\n",
       "      <th>ma_oil</th>\n",
       "    </tr>\n",
       "  </thead>\n",
       "  <tbody>\n",
       "    <tr>\n",
       "      <th>2013-01-01</th>\n",
       "      <td>NaN</td>\n",
       "      <td>NaN</td>\n",
       "    </tr>\n",
       "    <tr>\n",
       "      <th>2013-01-02</th>\n",
       "      <td>93.14</td>\n",
       "      <td>NaN</td>\n",
       "    </tr>\n",
       "    <tr>\n",
       "      <th>2013-01-03</th>\n",
       "      <td>92.97</td>\n",
       "      <td>NaN</td>\n",
       "    </tr>\n",
       "    <tr>\n",
       "      <th>2013-01-04</th>\n",
       "      <td>93.12</td>\n",
       "      <td>NaN</td>\n",
       "    </tr>\n",
       "    <tr>\n",
       "      <th>2013-01-05</th>\n",
       "      <td>NaN</td>\n",
       "      <td>NaN</td>\n",
       "    </tr>\n",
       "    <tr>\n",
       "      <th>2013-01-06</th>\n",
       "      <td>NaN</td>\n",
       "      <td>NaN</td>\n",
       "    </tr>\n",
       "    <tr>\n",
       "      <th>2013-01-07</th>\n",
       "      <td>93.20</td>\n",
       "      <td>NaN</td>\n",
       "    </tr>\n",
       "    <tr>\n",
       "      <th>2013-01-08</th>\n",
       "      <td>93.21</td>\n",
       "      <td>NaN</td>\n",
       "    </tr>\n",
       "    <tr>\n",
       "      <th>2013-01-09</th>\n",
       "      <td>93.08</td>\n",
       "      <td>NaN</td>\n",
       "    </tr>\n",
       "    <tr>\n",
       "      <th>2013-01-10</th>\n",
       "      <td>93.81</td>\n",
       "      <td>93.218571</td>\n",
       "    </tr>\n",
       "    <tr>\n",
       "      <th>2013-01-11</th>\n",
       "      <td>93.60</td>\n",
       "      <td>93.284286</td>\n",
       "    </tr>\n",
       "    <tr>\n",
       "      <th>2013-01-12</th>\n",
       "      <td>NaN</td>\n",
       "      <td>93.284286</td>\n",
       "    </tr>\n",
       "    <tr>\n",
       "      <th>2013-01-13</th>\n",
       "      <td>NaN</td>\n",
       "      <td>93.284286</td>\n",
       "    </tr>\n",
       "    <tr>\n",
       "      <th>2013-01-14</th>\n",
       "      <td>94.27</td>\n",
       "      <td>93.470000</td>\n",
       "    </tr>\n",
       "    <tr>\n",
       "      <th>2013-01-15</th>\n",
       "      <td>93.26</td>\n",
       "      <td>93.490000</td>\n",
       "    </tr>\n",
       "  </tbody>\n",
       "</table>\n",
       "</div>"
      ],
      "text/plain": [
       "            dcoilwtico     ma_oil\n",
       "2013-01-01         NaN        NaN\n",
       "2013-01-02       93.14        NaN\n",
       "2013-01-03       92.97        NaN\n",
       "2013-01-04       93.12        NaN\n",
       "2013-01-05         NaN        NaN\n",
       "2013-01-06         NaN        NaN\n",
       "2013-01-07       93.20        NaN\n",
       "2013-01-08       93.21        NaN\n",
       "2013-01-09       93.08        NaN\n",
       "2013-01-10       93.81  93.218571\n",
       "2013-01-11       93.60  93.284286\n",
       "2013-01-12         NaN  93.284286\n",
       "2013-01-13         NaN  93.284286\n",
       "2013-01-14       94.27  93.470000\n",
       "2013-01-15       93.26  93.490000"
      ]
     },
     "execution_count": 3,
     "metadata": {},
     "output_type": "execute_result"
    }
   ],
   "source": [
    "# read oil price\n",
    "data_oil = pd.read_csv(path + 'oil.csv', parse_dates=['date'], infer_datetime_format=True, index_col='date')\n",
    "\n",
    "########################################################################################################################\n",
    "# TODO: compute data_oil['ma_oil'] as the moving average of data_oil['dcoilwtico'] with window size 7\n",
    "# Hint: check the documentation of .rolling() method of pandas.DataFrame\n",
    "########################################################################################################################\n",
    "data_oil['ma_oil'] = data_oil.dcoilwtico.rolling(window=7, center=False).mean()\n",
    "\n",
    "# Create continguous moving average of oil prices\n",
    "calendar = pd.DataFrame(index=pd.date_range('2013-01-01', '2017-08-31'))\n",
    "\n",
    "########################################################################################################################\n",
    "# TODO 1: merge two DataFrame instances (data_oil and calendar) such that the merged instances has the same indexes\n",
    "# as calendar.\n",
    "# TODO 2: replace each NaN in data_oil['ma_oil'] by the first non-null value before it.\n",
    "# Hint: check the documentation of .merge() and .fillna() methods of pandas.DataFrame\n",
    "########################################################################################################################\n",
    "calendar = calendar.join(data_oil)\n",
    "calendar.ma_oil.fillna(method='ffill', inplace=True)\n",
    "\n",
    "calendar.head(15) # display some entries of calendar"
   ]
  },
  {
   "cell_type": "markdown",
   "id": "8cbbe071",
   "metadata": {
    "papermill": {
     "duration": 0.003531,
     "end_time": "2022-11-08T02:26:27.433462",
     "exception": false,
     "start_time": "2022-11-08T02:26:27.429931",
     "status": "completed"
    },
    "tags": [],
    "pycharm": {
     "name": "#%% md\n"
    }
   },
   "source": [
    "### 2. Create Workday Feature"
   ]
  },
  {
   "cell_type": "code",
   "execution_count": 4,
   "id": "c28b2348",
   "metadata": {
    "execution": {
     "iopub.execute_input": "2022-11-08T02:26:27.441936Z",
     "iopub.status.busy": "2022-11-08T02:26:27.441645Z",
     "iopub.status.idle": "2022-11-08T02:26:27.456717Z",
     "shell.execute_reply": "2022-11-08T02:26:27.455881Z"
    },
    "papermill": {
     "duration": 0.02154,
     "end_time": "2022-11-08T02:26:27.458629",
     "exception": false,
     "start_time": "2022-11-08T02:26:27.437089",
     "status": "completed"
    },
    "tags": [],
    "pycharm": {
     "name": "#%%\n"
    }
   },
   "outputs": [
    {
     "data": {
      "text/html": [
       "<div>\n",
       "<style scoped>\n",
       "    .dataframe tbody tr th:only-of-type {\n",
       "        vertical-align: middle;\n",
       "    }\n",
       "\n",
       "    .dataframe tbody tr th {\n",
       "        vertical-align: top;\n",
       "    }\n",
       "\n",
       "    .dataframe thead th {\n",
       "        text-align: right;\n",
       "    }\n",
       "</style>\n",
       "<table border=\"1\" class=\"dataframe\">\n",
       "  <thead>\n",
       "    <tr style=\"text-align: right;\">\n",
       "      <th></th>\n",
       "      <th>dcoilwtico</th>\n",
       "      <th>ma_oil</th>\n",
       "      <th>wd</th>\n",
       "    </tr>\n",
       "  </thead>\n",
       "  <tbody>\n",
       "    <tr>\n",
       "      <th>2013-01-01</th>\n",
       "      <td>NaN</td>\n",
       "      <td>NaN</td>\n",
       "      <td>True</td>\n",
       "    </tr>\n",
       "    <tr>\n",
       "      <th>2013-01-02</th>\n",
       "      <td>93.14</td>\n",
       "      <td>NaN</td>\n",
       "      <td>True</td>\n",
       "    </tr>\n",
       "    <tr>\n",
       "      <th>2013-01-03</th>\n",
       "      <td>92.97</td>\n",
       "      <td>NaN</td>\n",
       "      <td>True</td>\n",
       "    </tr>\n",
       "    <tr>\n",
       "      <th>2013-01-04</th>\n",
       "      <td>93.12</td>\n",
       "      <td>NaN</td>\n",
       "      <td>True</td>\n",
       "    </tr>\n",
       "    <tr>\n",
       "      <th>2013-01-05</th>\n",
       "      <td>NaN</td>\n",
       "      <td>NaN</td>\n",
       "      <td>False</td>\n",
       "    </tr>\n",
       "    <tr>\n",
       "      <th>2013-01-06</th>\n",
       "      <td>NaN</td>\n",
       "      <td>NaN</td>\n",
       "      <td>False</td>\n",
       "    </tr>\n",
       "    <tr>\n",
       "      <th>2013-01-07</th>\n",
       "      <td>93.20</td>\n",
       "      <td>NaN</td>\n",
       "      <td>True</td>\n",
       "    </tr>\n",
       "    <tr>\n",
       "      <th>2013-01-08</th>\n",
       "      <td>93.21</td>\n",
       "      <td>NaN</td>\n",
       "      <td>True</td>\n",
       "    </tr>\n",
       "    <tr>\n",
       "      <th>2013-01-09</th>\n",
       "      <td>93.08</td>\n",
       "      <td>NaN</td>\n",
       "      <td>True</td>\n",
       "    </tr>\n",
       "    <tr>\n",
       "      <th>2013-01-10</th>\n",
       "      <td>93.81</td>\n",
       "      <td>93.218571</td>\n",
       "      <td>True</td>\n",
       "    </tr>\n",
       "    <tr>\n",
       "      <th>2013-01-11</th>\n",
       "      <td>93.60</td>\n",
       "      <td>93.284286</td>\n",
       "      <td>True</td>\n",
       "    </tr>\n",
       "    <tr>\n",
       "      <th>2013-01-12</th>\n",
       "      <td>NaN</td>\n",
       "      <td>93.284286</td>\n",
       "      <td>False</td>\n",
       "    </tr>\n",
       "    <tr>\n",
       "      <th>2013-01-13</th>\n",
       "      <td>NaN</td>\n",
       "      <td>93.284286</td>\n",
       "      <td>False</td>\n",
       "    </tr>\n",
       "    <tr>\n",
       "      <th>2013-01-14</th>\n",
       "      <td>94.27</td>\n",
       "      <td>93.470000</td>\n",
       "      <td>True</td>\n",
       "    </tr>\n",
       "    <tr>\n",
       "      <th>2013-01-15</th>\n",
       "      <td>93.26</td>\n",
       "      <td>93.490000</td>\n",
       "      <td>True</td>\n",
       "    </tr>\n",
       "  </tbody>\n",
       "</table>\n",
       "</div>"
      ],
      "text/plain": [
       "            dcoilwtico     ma_oil     wd\n",
       "2013-01-01         NaN        NaN   True\n",
       "2013-01-02       93.14        NaN   True\n",
       "2013-01-03       92.97        NaN   True\n",
       "2013-01-04       93.12        NaN   True\n",
       "2013-01-05         NaN        NaN  False\n",
       "2013-01-06         NaN        NaN  False\n",
       "2013-01-07       93.20        NaN   True\n",
       "2013-01-08       93.21        NaN   True\n",
       "2013-01-09       93.08        NaN   True\n",
       "2013-01-10       93.81  93.218571   True\n",
       "2013-01-11       93.60  93.284286   True\n",
       "2013-01-12         NaN  93.284286  False\n",
       "2013-01-13         NaN  93.284286  False\n",
       "2013-01-14       94.27  93.470000   True\n",
       "2013-01-15       93.26  93.490000   True"
      ]
     },
     "execution_count": 4,
     "metadata": {},
     "output_type": "execute_result"
    }
   ],
   "source": [
    "########################################################################################################################\n",
    "# TODO: create a True/False feature calendar['wd'] to indicate whether each date is a workday (Monday-Friday) or not.\n",
    "# Hint: check documentation of pandas.DatetimeIndex.dayofweek\n",
    "########################################################################################################################\n",
    "calendar['wd'] = calendar.index.dayofweek <= 4\n",
    "\n",
    "calendar.head(15) # display some entries of calendar"
   ]
  },
  {
   "cell_type": "markdown",
   "id": "f818b7eb",
   "metadata": {
    "papermill": {
     "duration": 0.003813,
     "end_time": "2022-11-08T02:26:27.466854",
     "exception": false,
     "start_time": "2022-11-08T02:26:27.463041",
     "status": "completed"
    },
    "tags": [],
    "pycharm": {
     "name": "#%% md\n"
    }
   },
   "source": [
    "### 3. Read Train and Test Data"
   ]
  },
  {
   "cell_type": "code",
   "execution_count": 5,
   "id": "7cb9a979",
   "metadata": {
    "execution": {
     "iopub.execute_input": "2022-11-08T02:26:27.477330Z",
     "iopub.status.busy": "2022-11-08T02:26:27.475983Z",
     "iopub.status.idle": "2022-11-08T02:26:31.305634Z",
     "shell.execute_reply": "2022-11-08T02:26:31.304788Z"
    },
    "papermill": {
     "duration": 3.836503,
     "end_time": "2022-11-08T02:26:31.307357",
     "exception": false,
     "start_time": "2022-11-08T02:26:27.470854",
     "status": "completed"
    },
    "tags": [],
    "pycharm": {
     "name": "#%%\n"
    }
   },
   "outputs": [
    {
     "data": {
      "text/html": [
       "<div>\n",
       "<style scoped>\n",
       "    .dataframe tbody tr th:only-of-type {\n",
       "        vertical-align: middle;\n",
       "    }\n",
       "\n",
       "    .dataframe tbody tr th {\n",
       "        vertical-align: top;\n",
       "    }\n",
       "\n",
       "    .dataframe thead th {\n",
       "        text-align: right;\n",
       "    }\n",
       "</style>\n",
       "<table border=\"1\" class=\"dataframe\">\n",
       "  <thead>\n",
       "    <tr style=\"text-align: right;\">\n",
       "      <th></th>\n",
       "      <th></th>\n",
       "      <th></th>\n",
       "      <th>sales</th>\n",
       "    </tr>\n",
       "    <tr>\n",
       "      <th>store_nbr</th>\n",
       "      <th>family</th>\n",
       "      <th>date</th>\n",
       "      <th></th>\n",
       "    </tr>\n",
       "  </thead>\n",
       "  <tbody>\n",
       "    <tr>\n",
       "      <th rowspan=\"15\" valign=\"top\">1</th>\n",
       "      <th rowspan=\"15\" valign=\"top\">AUTOMOTIVE</th>\n",
       "      <th>2013-01-01</th>\n",
       "      <td>0.0</td>\n",
       "    </tr>\n",
       "    <tr>\n",
       "      <th>2013-01-02</th>\n",
       "      <td>2.0</td>\n",
       "    </tr>\n",
       "    <tr>\n",
       "      <th>2013-01-03</th>\n",
       "      <td>3.0</td>\n",
       "    </tr>\n",
       "    <tr>\n",
       "      <th>2013-01-04</th>\n",
       "      <td>3.0</td>\n",
       "    </tr>\n",
       "    <tr>\n",
       "      <th>2013-01-05</th>\n",
       "      <td>5.0</td>\n",
       "    </tr>\n",
       "    <tr>\n",
       "      <th>2013-01-06</th>\n",
       "      <td>2.0</td>\n",
       "    </tr>\n",
       "    <tr>\n",
       "      <th>2013-01-07</th>\n",
       "      <td>0.0</td>\n",
       "    </tr>\n",
       "    <tr>\n",
       "      <th>2013-01-08</th>\n",
       "      <td>2.0</td>\n",
       "    </tr>\n",
       "    <tr>\n",
       "      <th>2013-01-09</th>\n",
       "      <td>2.0</td>\n",
       "    </tr>\n",
       "    <tr>\n",
       "      <th>2013-01-10</th>\n",
       "      <td>2.0</td>\n",
       "    </tr>\n",
       "    <tr>\n",
       "      <th>2013-01-11</th>\n",
       "      <td>3.0</td>\n",
       "    </tr>\n",
       "    <tr>\n",
       "      <th>2013-01-12</th>\n",
       "      <td>2.0</td>\n",
       "    </tr>\n",
       "    <tr>\n",
       "      <th>2013-01-13</th>\n",
       "      <td>2.0</td>\n",
       "    </tr>\n",
       "    <tr>\n",
       "      <th>2013-01-14</th>\n",
       "      <td>2.0</td>\n",
       "    </tr>\n",
       "    <tr>\n",
       "      <th>2013-01-15</th>\n",
       "      <td>1.0</td>\n",
       "    </tr>\n",
       "  </tbody>\n",
       "</table>\n",
       "</div>"
      ],
      "text/plain": [
       "                                 sales\n",
       "store_nbr family     date             \n",
       "1         AUTOMOTIVE 2013-01-01    0.0\n",
       "                     2013-01-02    2.0\n",
       "                     2013-01-03    3.0\n",
       "                     2013-01-04    3.0\n",
       "                     2013-01-05    5.0\n",
       "                     2013-01-06    2.0\n",
       "                     2013-01-07    0.0\n",
       "                     2013-01-08    2.0\n",
       "                     2013-01-09    2.0\n",
       "                     2013-01-10    2.0\n",
       "                     2013-01-11    3.0\n",
       "                     2013-01-12    2.0\n",
       "                     2013-01-13    2.0\n",
       "                     2013-01-14    2.0\n",
       "                     2013-01-15    1.0"
      ]
     },
     "execution_count": 5,
     "metadata": {},
     "output_type": "execute_result"
    }
   ],
   "source": [
    "df_train = pd.read_csv(path + 'train.csv',\n",
    "                       usecols=['store_nbr', 'family', 'date', 'sales'],\n",
    "                       dtype={'store_nbr': 'category', 'family': 'category', 'sales': 'float32'},\n",
    "                       parse_dates=['date'], infer_datetime_format=True)\n",
    "\n",
    "df_train.date = df_train.date.dt.to_period('D')\n",
    "df_train = df_train.set_index(['store_nbr', 'family', 'date']).sort_index()\n",
    "\n",
    "df_train.head(15) # display some entries of the training data"
   ]
  },
  {
   "cell_type": "code",
   "execution_count": 6,
   "id": "021be979",
   "metadata": {
    "execution": {
     "iopub.execute_input": "2022-11-08T02:26:31.318208Z",
     "iopub.status.busy": "2022-11-08T02:26:31.317921Z",
     "iopub.status.idle": "2022-11-08T02:26:31.368763Z",
     "shell.execute_reply": "2022-11-08T02:26:31.367758Z"
    },
    "papermill": {
     "duration": 0.059021,
     "end_time": "2022-11-08T02:26:31.371005",
     "exception": false,
     "start_time": "2022-11-08T02:26:31.311984",
     "status": "completed"
    },
    "tags": [],
    "pycharm": {
     "name": "#%%\n"
    }
   },
   "outputs": [
    {
     "data": {
      "text/html": [
       "<div>\n",
       "<style scoped>\n",
       "    .dataframe tbody tr th:only-of-type {\n",
       "        vertical-align: middle;\n",
       "    }\n",
       "\n",
       "    .dataframe tbody tr th {\n",
       "        vertical-align: top;\n",
       "    }\n",
       "\n",
       "    .dataframe thead th {\n",
       "        text-align: right;\n",
       "    }\n",
       "</style>\n",
       "<table border=\"1\" class=\"dataframe\">\n",
       "  <thead>\n",
       "    <tr style=\"text-align: right;\">\n",
       "      <th></th>\n",
       "      <th></th>\n",
       "      <th></th>\n",
       "    </tr>\n",
       "    <tr>\n",
       "      <th>store_nbr</th>\n",
       "      <th>family</th>\n",
       "      <th>date</th>\n",
       "    </tr>\n",
       "  </thead>\n",
       "  <tbody>\n",
       "    <tr>\n",
       "      <th rowspan=\"15\" valign=\"top\">1</th>\n",
       "      <th rowspan=\"15\" valign=\"top\">AUTOMOTIVE</th>\n",
       "      <th>2017-08-16</th>\n",
       "    </tr>\n",
       "    <tr>\n",
       "      <th>2017-08-17</th>\n",
       "    </tr>\n",
       "    <tr>\n",
       "      <th>2017-08-18</th>\n",
       "    </tr>\n",
       "    <tr>\n",
       "      <th>2017-08-19</th>\n",
       "    </tr>\n",
       "    <tr>\n",
       "      <th>2017-08-20</th>\n",
       "    </tr>\n",
       "    <tr>\n",
       "      <th>2017-08-21</th>\n",
       "    </tr>\n",
       "    <tr>\n",
       "      <th>2017-08-22</th>\n",
       "    </tr>\n",
       "    <tr>\n",
       "      <th>2017-08-23</th>\n",
       "    </tr>\n",
       "    <tr>\n",
       "      <th>2017-08-24</th>\n",
       "    </tr>\n",
       "    <tr>\n",
       "      <th>2017-08-25</th>\n",
       "    </tr>\n",
       "    <tr>\n",
       "      <th>2017-08-26</th>\n",
       "    </tr>\n",
       "    <tr>\n",
       "      <th>2017-08-27</th>\n",
       "    </tr>\n",
       "    <tr>\n",
       "      <th>2017-08-28</th>\n",
       "    </tr>\n",
       "    <tr>\n",
       "      <th>2017-08-29</th>\n",
       "    </tr>\n",
       "    <tr>\n",
       "      <th>2017-08-30</th>\n",
       "    </tr>\n",
       "  </tbody>\n",
       "</table>\n",
       "</div>"
      ],
      "text/plain": [
       "Empty DataFrame\n",
       "Columns: []\n",
       "Index: [(1, AUTOMOTIVE, 2017-08-16), (1, AUTOMOTIVE, 2017-08-17), (1, AUTOMOTIVE, 2017-08-18), (1, AUTOMOTIVE, 2017-08-19), (1, AUTOMOTIVE, 2017-08-20), (1, AUTOMOTIVE, 2017-08-21), (1, AUTOMOTIVE, 2017-08-22), (1, AUTOMOTIVE, 2017-08-23), (1, AUTOMOTIVE, 2017-08-24), (1, AUTOMOTIVE, 2017-08-25), (1, AUTOMOTIVE, 2017-08-26), (1, AUTOMOTIVE, 2017-08-27), (1, AUTOMOTIVE, 2017-08-28), (1, AUTOMOTIVE, 2017-08-29), (1, AUTOMOTIVE, 2017-08-30)]"
      ]
     },
     "execution_count": 6,
     "metadata": {},
     "output_type": "execute_result"
    }
   ],
   "source": [
    "df_test = pd.read_csv(path + 'test.csv',\n",
    "                      usecols=['store_nbr', 'family', 'date'],\n",
    "                      dtype={'store_nbr': 'category', 'family': 'category'},\n",
    "                      parse_dates=['date'], infer_datetime_format=True)\n",
    "\n",
    "df_test.date = df_test.date.dt.to_period('D')\n",
    "df_test = df_test.set_index(['store_nbr', 'family', 'date']).sort_index()\n",
    "\n",
    "df_test.head(15) # display some entries of the testing data"
   ]
  },
  {
   "cell_type": "code",
   "execution_count": 7,
   "id": "6e59c45c",
   "metadata": {
    "execution": {
     "iopub.execute_input": "2022-11-08T02:26:31.381277Z",
     "iopub.status.busy": "2022-11-08T02:26:31.380970Z",
     "iopub.status.idle": "2022-11-08T02:26:32.220269Z",
     "shell.execute_reply": "2022-11-08T02:26:32.219260Z"
    },
    "papermill": {
     "duration": 0.846352,
     "end_time": "2022-11-08T02:26:32.222070",
     "exception": false,
     "start_time": "2022-11-08T02:26:31.375718",
     "status": "completed"
    },
    "tags": [],
    "pycharm": {
     "name": "#%%\n"
    }
   },
   "outputs": [
    {
     "data": {
      "text/html": [
       "<div>\n",
       "<style scoped>\n",
       "    .dataframe tbody tr th:only-of-type {\n",
       "        vertical-align: middle;\n",
       "    }\n",
       "\n",
       "    .dataframe tbody tr th {\n",
       "        vertical-align: top;\n",
       "    }\n",
       "\n",
       "    .dataframe thead th {\n",
       "        text-align: right;\n",
       "    }\n",
       "</style>\n",
       "<table border=\"1\" class=\"dataframe\">\n",
       "  <thead>\n",
       "    <tr style=\"text-align: right;\">\n",
       "      <th></th>\n",
       "      <th>trend</th>\n",
       "      <th>oil</th>\n",
       "      <th>wd</th>\n",
       "    </tr>\n",
       "  </thead>\n",
       "  <tbody>\n",
       "    <tr>\n",
       "      <th>2017-04-01</th>\n",
       "      <td>1.0</td>\n",
       "      <td>48.570000</td>\n",
       "      <td>False</td>\n",
       "    </tr>\n",
       "    <tr>\n",
       "      <th>2017-04-02</th>\n",
       "      <td>2.0</td>\n",
       "      <td>48.570000</td>\n",
       "      <td>False</td>\n",
       "    </tr>\n",
       "    <tr>\n",
       "      <th>2017-04-03</th>\n",
       "      <td>3.0</td>\n",
       "      <td>49.034286</td>\n",
       "      <td>True</td>\n",
       "    </tr>\n",
       "    <tr>\n",
       "      <th>2017-04-04</th>\n",
       "      <td>4.0</td>\n",
       "      <td>49.561429</td>\n",
       "      <td>True</td>\n",
       "    </tr>\n",
       "    <tr>\n",
       "      <th>2017-04-05</th>\n",
       "      <td>5.0</td>\n",
       "      <td>50.150000</td>\n",
       "      <td>True</td>\n",
       "    </tr>\n",
       "    <tr>\n",
       "      <th>2017-04-06</th>\n",
       "      <td>6.0</td>\n",
       "      <td>50.625714</td>\n",
       "      <td>True</td>\n",
       "    </tr>\n",
       "    <tr>\n",
       "      <th>2017-04-07</th>\n",
       "      <td>7.0</td>\n",
       "      <td>51.022857</td>\n",
       "      <td>True</td>\n",
       "    </tr>\n",
       "    <tr>\n",
       "      <th>2017-04-08</th>\n",
       "      <td>8.0</td>\n",
       "      <td>51.022857</td>\n",
       "      <td>False</td>\n",
       "    </tr>\n",
       "    <tr>\n",
       "      <th>2017-04-09</th>\n",
       "      <td>9.0</td>\n",
       "      <td>51.022857</td>\n",
       "      <td>False</td>\n",
       "    </tr>\n",
       "    <tr>\n",
       "      <th>2017-04-10</th>\n",
       "      <td>10.0</td>\n",
       "      <td>51.417143</td>\n",
       "      <td>True</td>\n",
       "    </tr>\n",
       "    <tr>\n",
       "      <th>2017-04-11</th>\n",
       "      <td>11.0</td>\n",
       "      <td>51.822857</td>\n",
       "      <td>True</td>\n",
       "    </tr>\n",
       "    <tr>\n",
       "      <th>2017-04-12</th>\n",
       "      <td>12.0</td>\n",
       "      <td>52.232857</td>\n",
       "      <td>True</td>\n",
       "    </tr>\n",
       "    <tr>\n",
       "      <th>2017-04-13</th>\n",
       "      <td>13.0</td>\n",
       "      <td>52.547143</td>\n",
       "      <td>True</td>\n",
       "    </tr>\n",
       "    <tr>\n",
       "      <th>2017-04-14</th>\n",
       "      <td>14.0</td>\n",
       "      <td>52.547143</td>\n",
       "      <td>True</td>\n",
       "    </tr>\n",
       "    <tr>\n",
       "      <th>2017-04-15</th>\n",
       "      <td>15.0</td>\n",
       "      <td>52.547143</td>\n",
       "      <td>False</td>\n",
       "    </tr>\n",
       "  </tbody>\n",
       "</table>\n",
       "</div>"
      ],
      "text/plain": [
       "            trend        oil     wd\n",
       "2017-04-01    1.0  48.570000  False\n",
       "2017-04-02    2.0  48.570000  False\n",
       "2017-04-03    3.0  49.034286   True\n",
       "2017-04-04    4.0  49.561429   True\n",
       "2017-04-05    5.0  50.150000   True\n",
       "2017-04-06    6.0  50.625714   True\n",
       "2017-04-07    7.0  51.022857   True\n",
       "2017-04-08    8.0  51.022857  False\n",
       "2017-04-09    9.0  51.022857  False\n",
       "2017-04-10   10.0  51.417143   True\n",
       "2017-04-11   11.0  51.822857   True\n",
       "2017-04-12   12.0  52.232857   True\n",
       "2017-04-13   13.0  52.547143   True\n",
       "2017-04-14   14.0  52.547143   True\n",
       "2017-04-15   15.0  52.547143  False"
      ]
     },
     "execution_count": 7,
     "metadata": {},
     "output_type": "execute_result"
    }
   ],
   "source": [
    "# set the range of data used in training\n",
    "sdate = '2017-04-01'\n",
    "edate = '2017-08-15'\n",
    "\n",
    "# we will train a model that takes feature of a date as input and predicts the sales for each store and family of goods on that date.\n",
    "y = df_train.unstack(['store_nbr', 'family']).loc[sdate:edate]\n",
    "\n",
    "\n",
    "########################################################################################################################\n",
    "# TODO: create the trend feature X: the value for sdate is 1, the value for the next day of sdate is 2, etc.\n",
    "# Hint: check the documentation of DeterministicProcess, or this tutorial: https://www.kaggle.com/code/ryanholbrook/trend.\n",
    "########################################################################################################################\n",
    "train_dp = DeterministicProcess(\n",
    "    index=pd.date_range(sdate, edate),\n",
    "    order=1,\n",
    "    drop=True\n",
    ")\n",
    "X = train_dp.in_sample()\n",
    "\n",
    "# Extentions\n",
    "X['oil']  = calendar.loc[sdate:edate]['ma_oil'].values\n",
    "X['wd']   = calendar.loc[sdate:edate]['wd'].values\n",
    "\n",
    "X.head(15)"
   ]
  },
  {
   "cell_type": "markdown",
   "id": "9255a98f",
   "metadata": {
    "papermill": {
     "duration": 0.004251,
     "end_time": "2022-11-08T02:26:32.231101",
     "exception": false,
     "start_time": "2022-11-08T02:26:32.226850",
     "status": "completed"
    },
    "tags": [],
    "pycharm": {
     "name": "#%% md\n"
    }
   },
   "source": [
    "### 4. Train Model!"
   ]
  },
  {
   "cell_type": "code",
   "execution_count": 8,
   "id": "957b7ccd",
   "metadata": {
    "execution": {
     "iopub.execute_input": "2022-11-08T02:26:32.241077Z",
     "iopub.status.busy": "2022-11-08T02:26:32.240793Z",
     "iopub.status.idle": "2022-11-08T02:26:32.275077Z",
     "shell.execute_reply": "2022-11-08T02:26:32.274351Z"
    },
    "papermill": {
     "duration": 0.044902,
     "end_time": "2022-11-08T02:26:32.280414",
     "exception": false,
     "start_time": "2022-11-08T02:26:32.235512",
     "status": "completed"
    },
    "tags": [],
    "pycharm": {
     "name": "#%%\n"
    }
   },
   "outputs": [],
   "source": [
    "model = LinearRegression()\n",
    "model.fit(X, y)\n",
    "y_pred = pd.DataFrame(model.predict(X), index=X.index, columns=y.columns)"
   ]
  },
  {
   "cell_type": "code",
   "execution_count": 9,
   "id": "08844456",
   "metadata": {
    "execution": {
     "iopub.execute_input": "2022-11-08T02:26:32.307443Z",
     "iopub.status.busy": "2022-11-08T02:26:32.306636Z",
     "iopub.status.idle": "2022-11-08T02:26:32.483304Z",
     "shell.execute_reply": "2022-11-08T02:26:32.482383Z"
    },
    "papermill": {
     "duration": 0.192305,
     "end_time": "2022-11-08T02:26:32.485706",
     "exception": false,
     "start_time": "2022-11-08T02:26:32.293401",
     "status": "completed"
    },
    "tags": [],
    "pycharm": {
     "name": "#%%\n"
    }
   },
   "outputs": [],
   "source": [
    "# Results on the training set\n",
    "\n",
    "y_pred   = y_pred.stack(['store_nbr', 'family']).reset_index()\n",
    "y_target = y.stack(['store_nbr', 'family']).reset_index().copy()\n",
    "\n",
    "y_target['sales_pred'] = y_pred['sales'].clip(0.) # Sales should be >= 0\n",
    "\n",
    "########################################################################################################################\n",
    "# TODO: show the training loss for each type of product.\n",
    "# Hint: check the documentation of DataFrame.groupby() and GroupBy.apply().\n",
    "########################################################################################################################\n",
    "# y_target.groupby(by=['family']).head(30)"
   ]
  },
  {
   "cell_type": "code",
   "execution_count": 10,
   "id": "eee37c54",
   "metadata": {
    "execution": {
     "iopub.execute_input": "2022-11-08T02:26:32.496082Z",
     "iopub.status.busy": "2022-11-08T02:26:32.495804Z",
     "iopub.status.idle": "2022-11-08T02:26:32.546023Z",
     "shell.execute_reply": "2022-11-08T02:26:32.545165Z"
    },
    "papermill": {
     "duration": 0.057988,
     "end_time": "2022-11-08T02:26:32.548469",
     "exception": false,
     "start_time": "2022-11-08T02:26:32.490481",
     "status": "completed"
    },
    "tags": [],
    "pycharm": {
     "name": "#%%\n"
    }
   },
   "outputs": [
    {
     "data": {
      "text/plain": [
       "family\n",
       "AUTOMOTIVE                    0.275179\n",
       "BABY CARE                     0.070663\n",
       "BEAUTY                        0.286778\n",
       "BEVERAGES                     0.205483\n",
       "BOOKS                         0.028720\n",
       "BREAD/BAKERY                  0.136432\n",
       "CELEBRATION                   0.339573\n",
       "CLEANING                      0.215838\n",
       "DAIRY                         0.148766\n",
       "DELI                          0.121253\n",
       "EGGS                          0.203725\n",
       "FROZEN FOODS                  0.183883\n",
       "GROCERY I                     0.216049\n",
       "GROCERY II                    0.373721\n",
       "HARDWARE                      0.291368\n",
       "HOME AND KITCHEN I            0.278903\n",
       "HOME AND KITCHEN II           0.233429\n",
       "HOME APPLIANCES               0.162268\n",
       "HOME CARE                     0.132638\n",
       "LADIESWEAR                    0.278059\n",
       "LAWN AND GARDEN               0.300818\n",
       "LINGERIE                      0.422315\n",
       "LIQUOR,WINE,BEER              0.790037\n",
       "MAGAZINES                     0.274707\n",
       "MEATS                         0.175813\n",
       "PERSONAL CARE                 0.151471\n",
       "PET SUPPLIES                  0.222810\n",
       "PLAYERS AND ELECTRONICS       0.238433\n",
       "POULTRY                       0.157990\n",
       "PREPARED FOODS                0.137370\n",
       "PRODUCE                       0.230674\n",
       "SCHOOL AND OFFICE SUPPLIES    1.487916\n",
       "SEAFOOD                       0.287336\n",
       "dtype: float64"
      ]
     },
     "execution_count": 10,
     "metadata": {},
     "output_type": "execute_result"
    }
   ],
   "source": [
    "y_target.groupby('family').apply(lambda df: mean_squared_log_error(y_true=df.sales, y_pred=df.sales_pred))"
   ]
  },
  {
   "cell_type": "markdown",
   "source": [
    "The model has the most difficulty in predicting school and office supplies. This is most likely due to its seasonal spikes that we do not really account for with our features."
   ],
   "metadata": {
    "collapsed": false,
    "pycharm": {
     "name": "#%% md\n"
    }
   }
  },
  {
   "cell_type": "code",
   "execution_count": 11,
   "id": "c0fdece4",
   "metadata": {
    "execution": {
     "iopub.execute_input": "2022-11-08T02:26:32.561283Z",
     "iopub.status.busy": "2022-11-08T02:26:32.560216Z",
     "iopub.status.idle": "2022-11-08T02:26:32.614968Z",
     "shell.execute_reply": "2022-11-08T02:26:32.614128Z"
    },
    "papermill": {
     "duration": 0.062271,
     "end_time": "2022-11-08T02:26:32.616729",
     "exception": false,
     "start_time": "2022-11-08T02:26:32.554458",
     "status": "completed"
    },
    "tags": [],
    "pycharm": {
     "name": "#%%\n"
    }
   },
   "outputs": [
    {
     "name": "stdout",
     "output_type": "stream",
     "text": [
      "            trend        oil     wd\n",
      "2017-08-16  138.0  48.281429   True\n",
      "2017-08-17  139.0  47.995714   True\n",
      "2017-08-18  140.0  47.852857   True\n",
      "2017-08-19  141.0  47.852857  False\n",
      "2017-08-20  142.0  47.852857  False\n",
      "2017-08-21  143.0  47.688571   True\n",
      "2017-08-22  144.0  47.522857   True\n",
      "2017-08-23  145.0  47.645714   True\n",
      "2017-08-24  146.0  47.598571   True\n",
      "2017-08-25  147.0  47.720000   True\n",
      "2017-08-26  148.0  47.720000  False\n",
      "2017-08-27  149.0  47.720000  False\n",
      "2017-08-28  150.0  47.624286   True\n",
      "2017-08-29  151.0  47.320000   True\n",
      "2017-08-30  152.0  47.115714   True\n",
      "2017-08-31  153.0  47.060000   True\n"
     ]
    }
   ],
   "source": [
    "# Test predictions\n",
    "\n",
    "stest = '2017-08-16'\n",
    "etest = '2017-08-31'\n",
    "\n",
    "########################################################################################################################\n",
    "# TODO: create the feature matrix of test data.\n",
    "# Hint: check the documentation of DeterministicProcess.\n",
    "########################################################################################################################\n",
    "X_test = train_dp.out_of_sample(len(pd.date_range(stest, etest)))\n",
    "\n",
    "# Extentions...\n",
    "X_test['oil']  = calendar.loc[stest:etest]['ma_oil'].values\n",
    "X_test['wd']   = calendar.loc[stest:etest]['wd'].values\n",
    "\n",
    "print(X_test)\n",
    "\n",
    "sales_pred = pd.DataFrame(model.predict(X_test), index=X_test.index, columns=y.columns)\n",
    "sales_pred = sales_pred.stack(['store_nbr', 'family'])\n",
    "\n",
    "sales_pred[sales_pred < 0] = 0. # Sales should be >= 0"
   ]
  },
  {
   "cell_type": "code",
   "execution_count": 12,
   "id": "5bb83565",
   "metadata": {
    "execution": {
     "iopub.execute_input": "2022-11-08T02:26:32.627506Z",
     "iopub.status.busy": "2022-11-08T02:26:32.627226Z",
     "iopub.status.idle": "2022-11-08T02:26:32.696004Z",
     "shell.execute_reply": "2022-11-08T02:26:32.695093Z"
    },
    "papermill": {
     "duration": 0.076354,
     "end_time": "2022-11-08T02:26:32.698029",
     "exception": false,
     "start_time": "2022-11-08T02:26:32.621675",
     "status": "completed"
    },
    "tags": [],
    "pycharm": {
     "name": "#%%\n"
    }
   },
   "outputs": [],
   "source": [
    "# Create submission\n",
    "\n",
    "df_sub = pd.read_csv(path + 'sample_submission.csv', index_col='id')\n",
    "df_sub.sales = sales_pred.values\n",
    "df_sub.to_csv('submission.csv', index=True)"
   ]
  }
 ],
 "metadata": {
  "kernelspec": {
   "display_name": "Python 3",
   "language": "python",
   "name": "python3"
  },
  "language_info": {
   "codemirror_mode": {
    "name": "ipython",
    "version": 3
   },
   "file_extension": ".py",
   "mimetype": "text/x-python",
   "name": "python",
   "nbconvert_exporter": "python",
   "pygments_lexer": "ipython3",
   "version": "3.7.12"
  },
  "papermill": {
   "default_parameters": {},
   "duration": 13.64532,
   "end_time": "2022-11-08T02:26:33.322068",
   "environment_variables": {},
   "exception": null,
   "input_path": "__notebook__.ipynb",
   "output_path": "__notebook__.ipynb",
   "parameters": {},
   "start_time": "2022-11-08T02:26:19.676748",
   "version": "2.3.4"
  }
 },
 "nbformat": 4,
 "nbformat_minor": 5
}
